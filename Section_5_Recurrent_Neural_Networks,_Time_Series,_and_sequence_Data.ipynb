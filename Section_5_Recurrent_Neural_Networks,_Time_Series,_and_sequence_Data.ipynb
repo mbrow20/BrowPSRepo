{
  "nbformat": 4,
  "nbformat_minor": 0,
  "metadata": {
    "colab": {
      "name": "Section 5: Recurrent Neural Networks, Time Series, and sequence Data.ipynb",
      "provenance": [],
      "collapsed_sections": [],
      "authorship_tag": "ABX9TyO83zZkJPP3eKI5siJab4m2",
      "include_colab_link": true
    },
    "kernelspec": {
      "name": "python3",
      "display_name": "Python 3"
    }
  },
  "cells": [
    {
      "cell_type": "markdown",
      "metadata": {
        "id": "view-in-github",
        "colab_type": "text"
      },
      "source": [
        "<a href=\"https://colab.research.google.com/github/mbrow20/BrowPSRepo/blob/master/Section_5_Recurrent_Neural_Networks%2C_Time_Series%2C_and_sequence_Data.ipynb\" target=\"_parent\"><img src=\"https://colab.research.google.com/assets/colab-badge.svg\" alt=\"Open In Colab\"/></a>"
      ]
    },
    {
      "cell_type": "markdown",
      "metadata": {
        "id": "FgCdGN8xPmbc",
        "colab_type": "text"
      },
      "source": [
        "# Part 6. Sequence Data\n",
        "Deep Learning originally become popular with images, then moved on to sequence data such as text, speech, financial data, etc.\n",
        "\n",
        "Sequence as **time-series** signal that is type continuous taken periodically.\n",
        "e.g., stock price.\n",
        "\n",
        "##Airline passengers\n",
        "Forecasting the amount of passengers you will have on your airline in any given month and given year.\n",
        "\n",
        "###Makes sure airports have enough workers\n",
        "###Uber can adjust prices based on demand\n",
        "Old days of text recognition used 'bag-of-words' feature vector\n",
        "###Document classification\n",
        "Create a long feature vector (one feature for each word in the English language)\n",
        "Inside vector, we count how many times a certain word/words were used. We\n",
        "classify email as spam or not.\n",
        "\n",
        "The feature vector for 'bag-of-words' is static, so each cell stands for a particular word. The counts then go into respective cells. The 'code' is the code for that text sequence, which leads to classification.\n",
        "\n",
        "###Problem with 'bag-of-words' classification\n",
        "When we only use word count, we lose information about the order of the words.\n",
        " For sequence data, we can think of this as N x D, but D = 1\n",
        " ### How do we represent the length in a sequence? N ? D?\n",
        " Neither. Think as **T**, which is sequence length\n",
        "\n",
        " ### Shape of Sequence: 3D...N x D x T\n",
        "\n"
      ]
    },
    {
      "cell_type": "markdown",
      "metadata": {
        "id": "jBsS_NETRGE3",
        "colab_type": "text"
      },
      "source": [
        "\n",
        "\n",
        "*   N: Number of Samples\n",
        "*   D: Number of Features\n",
        "*   T: Number of time steps in sequence.\n",
        "\n"
      ]
    },
    {
      "cell_type": "markdown",
      "metadata": {
        "id": "hDWPOiw_RWFr",
        "colab_type": "text"
      },
      "source": [
        "### With GPS example, N may be the number of trips, D be number of latitude, longitude measurements, and T be the number of sequence steps recorded (e.g., lat, long measurements every second). For 30-minute trip you have 30 x 60 =1800 time points (or t).\n",
        "In tensorflow and keras, only take equal length measurements.\n",
        "\n",
        "Stock price is just a single feature, so D =1. Suppose we use of window of T = 10 to predict the next stock price.\n",
        "\n",
        "N would be the number of windows in the time series we have (1-10 segment windows)\n",
        "#### If you have sequence length of L, and a window size of T, L - T + 1 measurements or N\n",
        "\n",
        "\n",
        "D can be more than 1, like, let's say, 500 stocks. So D = 500.\n",
        "\n",
        "### Data order: N x T x D\n",
        "\n",
        "#### Tabular data: N x D\n",
        "#### Image data: N x H x W x C\n",
        "\n",
        "(put features last)\n",
        "\n",
        "### To make the sequences of equal length (e.g., the number of words in each sentence), keras will take the longest sentence as the standard, and pad the other sentences with '0' to make up for the length.\n",
        "\n",
        "# Part 2: Forecasting\n",
        "\n",
        "Forecast is to predict the next value in a time series\n",
        "The number of future steps we want to predict is known as the horizon.\n",
        "**Usually do not want to just forecast one step ahead**\n",
        "\n",
        "#### Since forecasting has only one dimension (D = 1), we can flatten our N x T x D into a N x T x 1, or simply N x T\n",
        "\n",
        "If we have a time series of length 10, and want to predict the next 3 values, then the input matrix (X) will be N X 3, and target (Y) will be of size (shape) N (N is the number of length-3 time windows that fit into the time series).\n",
        "\n",
        "#### Is N, 10 - 3 + 1 = 8? Actually we have N = 4, because the length of window need to be 4, since we need to predict the next in the time series of length 3 (hence 4). The 4th value is the target.\n",
        "\n",
        "This is an **autoregressive** (AR) model\n",
        "\n",
        "The model is:\n",
        "$$\\hat{x}_t = w_0 + w_1x_{t-1} + w_2x_{t-2}+w_3x_{t-3}$$\n",
        "\n",
        "### What if we want to predict multiple days ahead?\n",
        "\n",
        "*   We want to predict Day 4, Day 5, Day 6, from Day 1, Day 2, Day 3\n",
        "  * Can use Day 1, Day 2, and Day 3 to predict Day 4\n",
        "  * Cannot use these values to predict Day 5 , since we do not know Day 4\n",
        "  * Same goes for Day 6\n",
        "\n",
        "### In order to make predictions for mulitple steps in the future, we must use earlier predictions as input\n",
        "\n",
        "$$\\hat{x_4} = w_0 + w_1x_3 + w_2x_2 + w_3x_1$$\n",
        "$$\\hat{x_5} = w_0 + w_1\\hat{x_4} + w_2x_3 + w_3x_2$$\n",
        "$$\\hat{x_6} = w_0 + w_1\\hat{x_5} + w_2\\hat{x_4} + w_3x_3$$\n",
        "\n",
        "###Need a loop, and call **model.predict()** only on the most recently generated sequence.\n",
        "\n",
        "x = last value of training set\n",
        "\n",
        "predictions= [] #instantiate empty array\n",
        "```\n",
        "for i in range(length(forecast)):\n",
        "  x_next: model.predict(x)\n",
        "  predictions.append(next_x)\n",
        "  x = concat(x[1,:], x_next)\n",
        "```\n",
        "\n",
        "the **x** in the last line of the loop will have the next values of x, plus the prediction **x_next**. It will discard old predictions with **predictions.append(next_x)**.\n",
        "\n",
        "Regular linear regression:\n",
        "\n",
        "i = Input(shape=(T,))\n",
        "\n",
        "x = Dense(1)(i)\n",
        "\n",
        "model = Model(i,x)\n",
        "\n",
        "**ANN**\n",
        "\n",
        "i = Input(shape=(T,))\n",
        "\n",
        "x = Dense(10, activation = 'relu')(i)\n",
        "\n",
        "x = Dense(1)(x)\n",
        "\n",
        "model = Model(i, x)\n",
        "\n",
        "\n",
        "\n",
        "\n",
        "\n",
        "\n"
      ]
    },
    {
      "cell_type": "markdown",
      "metadata": {
        "id": "NL2D3xaPkUrT",
        "colab_type": "text"
      },
      "source": [
        "# Part 3: Autoregressive linear models for time series predictions\n",
        "\n"
      ]
    },
    {
      "cell_type": "code",
      "metadata": {
        "id": "-eIS79vZkuhH",
        "colab_type": "code",
        "colab": {}
      },
      "source": [
        "!pip install  --upgrade tensorflow\n",
        "\n"
      ],
      "execution_count": null,
      "outputs": []
    },
    {
      "cell_type": "code",
      "metadata": {
        "id": "9VpeoWfMlAbx",
        "colab_type": "code",
        "colab": {
          "base_uri": "https://localhost:8080/",
          "height": 34
        },
        "outputId": "448f305e-09dc-40f9-d798-e8eab687497f"
      },
      "source": [
        "import tensorflow as tf\n",
        "print(tf.__version__)"
      ],
      "execution_count": null,
      "outputs": [
        {
          "output_type": "stream",
          "text": [
            "2.3.0\n"
          ],
          "name": "stdout"
        }
      ]
    },
    {
      "cell_type": "code",
      "metadata": {
        "id": "xLGOcTW8lmmK",
        "colab_type": "code",
        "colab": {}
      },
      "source": [
        "from tensorflow.keras.layers import Input, Dense\n",
        "from tensorflow.keras.models import Model\n",
        "from tensorflow.keras.optimizers import SGD, Adam\n"
      ],
      "execution_count": null,
      "outputs": []
    },
    {
      "cell_type": "code",
      "metadata": {
        "id": "xc-mg5hyl-cI",
        "colab_type": "code",
        "colab": {}
      },
      "source": [
        "import numpy as np\n",
        "import pandas as pd\n",
        "import matplotlib.pyplot as plt\n"
      ],
      "execution_count": null,
      "outputs": []
    },
    {
      "cell_type": "code",
      "metadata": {
        "id": "nw3oDUR5mpSd",
        "colab_type": "code",
        "colab": {}
      },
      "source": [
        "#Make synthetic data\n",
        "series = np.sin(0.1 * np.arange(200))\n",
        "series"
      ],
      "execution_count": null,
      "outputs": []
    },
    {
      "cell_type": "code",
      "metadata": {
        "id": "PP4YkLJMoBX1",
        "colab_type": "code",
        "colab": {}
      },
      "source": [
        "#Plot it. This series has no noise\n",
        "plt.plot(series)\n",
        "plt.show()"
      ],
      "execution_count": null,
      "outputs": []
    },
    {
      "cell_type": "code",
      "metadata": {
        "id": "Jjby25dIoVO5",
        "colab_type": "code",
        "colab": {
          "base_uri": "https://localhost:8080/",
          "height": 68
        },
        "outputId": "cafa2ea5-367e-4ef4-f24d-1754339c427f"
      },
      "source": [
        "#Build the data set\n",
        "T = 10 #which means, we will use 10 previous time steps to predict the next time step\n",
        "X = []\n",
        "Y = []\n",
        "#populate X and Y as lists, and cast them to arrays once we are done\n",
        "\n",
        "for t in range(len(series) - T):\n",
        "  x = series[t:t+T]\n",
        "  X.append(x)\n",
        "  y = series[t+T]\n",
        "  Y.append(y)\n",
        "X = np.array(X).reshape(-1, T)\n",
        "Y = np.array(Y)\n",
        "N = len(X)\n",
        "print(\"X.shape: \", X.shape, \"Y.shape: \", Y.shape)\n",
        "X[1:10,1]\n",
        "#This has 190 segments of size 10. Series is 200 minus 10 targets (190)"
      ],
      "execution_count": null,
      "outputs": [
        {
          "output_type": "stream",
          "text": [
            "X.shape:  (190, 10) Y.shape:  (190,)\n"
          ],
          "name": "stdout"
        },
        {
          "output_type": "execute_result",
          "data": {
            "text/plain": [
              "array([0.19866933, 0.29552021, 0.38941834, 0.47942554, 0.56464247,\n",
              "       0.64421769, 0.71735609, 0.78332691, 0.84147098])"
            ]
          },
          "metadata": {
            "tags": []
          },
          "execution_count": 8
        }
      ]
    },
    {
      "cell_type": "markdown",
      "metadata": {
        "id": "hITmJ1gKqMTA",
        "colab_type": "text"
      },
      "source": [
        "In this loop, we go from zero up to the length of the series minus **T**. We know that our input X will go from little **t** (the first index) until little **t** plot big **T**, so, for example, 0 until 10. In terms of real indices, this is 0 to 9, inclusive. Actually, does not include index 10, but the target will be at index 10. We know that the final index of the original index series will be the final target, that is the index, **len(series)-1**. \n",
        "\n",
        "```\n",
        "Final target index =Final t + T\n",
        "=[len(series)-T-1] + T\n",
        "= len(series) -1\n",
        "```\n"
      ]
    },
    {
      "cell_type": "code",
      "metadata": {
        "id": "4aayQo5otWG5",
        "colab_type": "code",
        "colab": {}
      },
      "source": [
        ""
      ],
      "execution_count": null,
      "outputs": []
    },
    {
      "cell_type": "code",
      "metadata": {
        "id": "2e8uw5QxtWPs",
        "colab_type": "code",
        "colab": {}
      },
      "source": [
        "\n",
        "#Try out code\n",
        "#T = 10 #which means, we will use 10 previous time steps to predict the next time step\n",
        "#X = []\n",
        "#Y = []\n",
        "#populate X and Y as lists, and cast them to arrays once we are done\n",
        "\n",
        "#for t in range(len(series) - T):\n",
        "  #x = series[t:t+T]\n",
        "  #X.append(x)\n",
        "  #y = series[t+T]\n",
        "  #Y.append(y)\n",
        "#len(X)\n",
        "#X[1:10]\n",
        "#Y[1:10]\n"
      ],
      "execution_count": null,
      "outputs": []
    },
    {
      "cell_type": "code",
      "metadata": {
        "id": "v-qDeQz1xxTD",
        "colab_type": "code",
        "colab": {}
      },
      "source": [
        "#try autoregressive model\n",
        "i = Input(shape =(T,))\n",
        "x = Dense(1)(i)\n",
        "model = Model(i,x)\n",
        "model.compile(\n",
        "    loss = 'mse',\n",
        "    optimizer = Adam(lr = 0.1),\n",
        ")\n"
      ],
      "execution_count": null,
      "outputs": []
    },
    {
      "cell_type": "code",
      "metadata": {
        "id": "jkN8T5g3yQBg",
        "colab_type": "code",
        "colab": {}
      },
      "source": [
        "#train the RNN\n",
        "r = model.fit(\n",
        "    X[:-N//2], Y[:-N//2],\n",
        "    epochs = 80,\n",
        "    validation_data = (X[-N//2:],\n",
        "                       Y[-N//2:]),\n",
        ")\n",
        "#trains on the first half of the data set, and predicts on second half. Be careful of using package ways to split data"
      ],
      "execution_count": null,
      "outputs": []
    },
    {
      "cell_type": "code",
      "metadata": {
        "id": "FTjh9oTvzoNr",
        "colab_type": "code",
        "colab": {
          "base_uri": "https://localhost:8080/",
          "height": 282
        },
        "outputId": "22d75750-d2ac-4470-909e-deb342d59598"
      },
      "source": [
        "#plot loss per iteration\n",
        "import matplotlib.pyplot as plt\n",
        "plt.plot(r.history['loss'], label = 'loss')\n",
        "plt.plot(r.history['val_loss'], label = 'val_loss')\n",
        "plt.legend()"
      ],
      "execution_count": null,
      "outputs": [
        {
          "output_type": "execute_result",
          "data": {
            "text/plain": [
              "<matplotlib.legend.Legend at 0x7f64069b7978>"
            ]
          },
          "metadata": {
            "tags": []
          },
          "execution_count": 13
        },
        {
          "output_type": "display_data",
          "data": {
            "image/png": "[encoded data removed]",
            "text/plain": [
              "<Figure size 432x288 with 1 Axes>"
            ]
          },
          "metadata": {
            "tags": [],
            "needs_background": "light"
          }
        }
      ]
    },
    {
      "cell_type": "code",
      "metadata": {
        "id": "elTJ2bRA1qTF",
        "colab_type": "code",
        "colab": {}
      },
      "source": [
        "#Forecast future values(use only self-predicted values)\n",
        "validation_target = Y[-N//2:]\n",
        "validation_predictions = []\n",
        "\n",
        "#last train input\n",
        "last_x = X[-N//2] #1-D array of length T (10 observations)\n",
        " \n",
        "while len(validation_predictions) < len(validation_target):\n",
        "  p = model.predict(last_x.reshape(1,-1))[0,0] #scalar\n",
        "  #update predictions\n",
        "  validation_predictions.append(p)\n",
        "\n",
        "  #make the new input\n",
        "  last_x = np.roll(last_x, -1)\n",
        "  last_x[-1] = p\n",
        "  \n",
        "  \n",
        "  "
      ],
      "execution_count": null,
      "outputs": []
    },
    {
      "cell_type": "code",
      "metadata": {
        "id": "TOeV4JQHKXER",
        "colab_type": "code",
        "colab": {
          "base_uri": "https://localhost:8080/",
          "height": 282
        },
        "outputId": "2b4f165f-0c02-4852-bb6c-e4e7b5fdb93e"
      },
      "source": [
        "plt.plot(validation_target, label = 'forecast target')\n",
        "plt.plot(validation_predictions, label = 'forecast predictions')\n",
        "plt.legend()"
      ],
      "execution_count": null,
      "outputs": [
        {
          "output_type": "execute_result",
          "data": {
            "text/plain": [
              "<matplotlib.legend.Legend at 0x7f640579ff28>"
            ]
          },
          "metadata": {
            "tags": []
          },
          "execution_count": 15
        },
        {
          "output_type": "display_data",
          "data": {
            "image/png": "[encoded data removed]",
            "text/plain": [
              "<Figure size 432x288 with 1 Axes>"
            ]
          },
          "metadata": {
            "tags": [],
            "needs_background": "light"
          }
        }
      ]
    },
    {
      "cell_type": "code",
      "metadata": {
        "id": "T6EHwwjfK0s1",
        "colab_type": "code",
        "colab": {
          "base_uri": "https://localhost:8080/",
          "height": 1000
        },
        "outputId": "b67eb06c-c2db-471b-e047-eb3150a3be70"
      },
      "source": [
        "#now we are going to add noise to the data signal\n",
        "import tensorflow as tf\n",
        "print(tf.__version__)\n",
        "\n",
        "from tensorflow.keras.layers import Input, Dense\n",
        "from tensorflow.keras.models import Model\n",
        "from tensorflow.keras.optimizers import SGD, Adam\n",
        "\n",
        "import numpy as np\n",
        "import pandas as pd\n",
        "import matplotlib.pyplot as plt\n",
        "\n",
        "#Make synthetic data (with noise)\n",
        "series = np.sin(0.1 * np.arange(200)) + np.random.randn(200) * 0.1\n",
        "\n",
        "#Plot it. This series has no noise\n",
        "plt.plot(series)\n",
        "plt.show()\n",
        "\n",
        "#Build the data set (noisy data set)\n",
        "T = 10 #which means, we will use 10 previous time steps to predict the next time step\n",
        "X = []\n",
        "Y = []\n",
        "#populate X and Y as lists, and cast them to arrays once we are done\n",
        "\n",
        "for t in range(len(series) - T):\n",
        "  x = series[t:t+T]\n",
        "  X.append(x)\n",
        "  y = series[t+T]\n",
        "  Y.append(y)\n",
        "X = np.array(X).reshape(-1, T)\n",
        "Y = np.array(Y)\n",
        "N = len(X)\n",
        "print(\"X.shape: \", X.shape, \"Y.shape: \", Y.shape)\n",
        "X[1:10,1]\n",
        "#This has 190 segments of size 10. Series is 200 minus 10 targets (190)\n",
        "\n",
        "#try autoregressive model\n",
        "i = Input(shape =(T,))\n",
        "x = Dense(1)(i)\n",
        "model = Model(i,x)\n",
        "model.compile(\n",
        "    loss = 'mse',\n",
        "    optimizer = Adam(lr = 0.1),\n",
        ")\n",
        "\n",
        "#train the RNN\n",
        "r = model.fit(\n",
        "    X[:-N//2], Y[:-N//2],\n",
        "    epochs = 80,\n",
        "    validation_data = (X[-N//2:],\n",
        "                       Y[-N//2:]),\n",
        ")\n",
        "#trains on the first half of the data set, and predicts on second half. Be careful of using package ways to split data\n",
        "\n",
        "#plot loss per iteration\n",
        "import matplotlib.pyplot as plt\n",
        "plt.plot(r.history['loss'], label = 'loss')\n",
        "plt.plot(r.history['val_loss'], label = 'val_loss')\n",
        "plt.legend()\n",
        "\n",
        "#Forecast future values(use only self-predicted values)\n",
        "validation_target = Y[-N//2:]\n",
        "validation_predictions = []\n",
        "\n",
        "#last train input\n",
        "last_x = X[-N//2] #1-D array of length T (10 observations)\n",
        " \n",
        "while len(validation_predictions) < len(validation_target):\n",
        "  p = model.predict(last_x.reshape(1,-1))[0,0] #scalar\n",
        "  #update predictions\n",
        "  validation_predictions.append(p)\n",
        "\n",
        "  #make the new input\n",
        "  last_x = np.roll(last_x, -1)\n",
        "  last_x[-1] = p\n",
        "\n",
        "plt.plot(validation_target, label = 'forecast target')\n",
        "plt.plot(validation_predictions, label = 'forecast predictions')\n",
        "plt.legend()\n",
        "\n"
      ],
      "execution_count": null,
      "outputs": [
        {
          "output_type": "stream",
          "text": [
            "2.3.0\n"
          ],
          "name": "stdout"
        },
        {
          "output_type": "display_data",
          "data": {
            "image/png": "[encoded data removed]",
            "text/plain": [
              "<Figure size 432x288 with 1 Axes>"
            ]
          },
          "metadata": {
            "tags": [],
            "needs_background": "light"
          }
        },
        {
          "output_type": "stream",
          "text": [
            "X.shape:  (190, 10) Y.shape:  (190,)\n",
            "Epoch 1/80\n",
            "3/3 [==============================] - 0s 29ms/step - loss: 0.1381 - val_loss: 0.0969\n",
            "Epoch 2/80\n",
            "3/3 [==============================] - 0s 7ms/step - loss: 0.1032 - val_loss: 0.0553\n",
            "Epoch 3/80\n",
            "3/3 [==============================] - 0s 7ms/step - loss: 0.0994 - val_loss: 0.0402\n",
            "Epoch 4/80\n",
            "3/3 [==============================] - 0s 7ms/step - loss: 0.0738 - val_loss: 0.0789\n",
            "Epoch 5/80\n",
            "3/3 [==============================] - 0s 7ms/step - loss: 0.0542 - val_loss: 0.0500\n",
            "Epoch 6/80\n",
            "3/3 [==============================] - 0s 7ms/step - loss: 0.0650 - val_loss: 0.0316\n",
            "Epoch 7/80\n",
            "3/3 [==============================] - 0s 7ms/step - loss: 0.0492 - val_loss: 0.0389\n",
            "Epoch 8/80\n",
            "3/3 [==============================] - 0s 8ms/step - loss: 0.0450 - val_loss: 0.0342\n",
            "Epoch 9/80\n",
            "3/3 [==============================] - 0s 8ms/step - loss: 0.0468 - val_loss: 0.0258\n",
            "Epoch 10/80\n",
            "3/3 [==============================] - 0s 7ms/step - loss: 0.0437 - val_loss: 0.0329\n",
            "Epoch 11/80\n",
            "3/3 [==============================] - 0s 7ms/step - loss: 0.0348 - val_loss: 0.0302\n",
            "Epoch 12/80\n",
            "3/3 [==============================] - 0s 8ms/step - loss: 0.0382 - val_loss: 0.0233\n",
            "Epoch 13/80\n",
            "3/3 [==============================] - 0s 8ms/step - loss: 0.0302 - val_loss: 0.0229\n",
            "Epoch 14/80\n",
            "3/3 [==============================] - 0s 8ms/step - loss: 0.0300 - val_loss: 0.0207\n",
            "Epoch 15/80\n",
            "3/3 [==============================] - 0s 7ms/step - loss: 0.0290 - val_loss: 0.0207\n",
            "Epoch 16/80\n",
            "3/3 [==============================] - 0s 7ms/step - loss: 0.0277 - val_loss: 0.0204\n",
            "Epoch 17/80\n",
            "3/3 [==============================] - 0s 7ms/step - loss: 0.0263 - val_loss: 0.0186\n",
            "Epoch 18/80\n",
            "3/3 [==============================] - 0s 7ms/step - loss: 0.0251 - val_loss: 0.0182\n",
            "Epoch 19/80\n",
            "3/3 [==============================] - 0s 7ms/step - loss: 0.0250 - val_loss: 0.0177\n",
            "Epoch 20/80\n",
            "3/3 [==============================] - 0s 7ms/step - loss: 0.0248 - val_loss: 0.0173\n",
            "Epoch 21/80\n",
            "3/3 [==============================] - 0s 7ms/step - loss: 0.0232 - val_loss: 0.0176\n",
            "Epoch 22/80\n",
            "3/3 [==============================] - 0s 8ms/step - loss: 0.0227 - val_loss: 0.0170\n",
            "Epoch 23/80\n",
            "3/3 [==============================] - 0s 9ms/step - loss: 0.0225 - val_loss: 0.0159\n",
            "Epoch 24/80\n",
            "3/3 [==============================] - 0s 7ms/step - loss: 0.0211 - val_loss: 0.0157\n",
            "Epoch 25/80\n",
            "3/3 [==============================] - 0s 7ms/step - loss: 0.0208 - val_loss: 0.0152\n",
            "Epoch 26/80\n",
            "3/3 [==============================] - 0s 8ms/step - loss: 0.0199 - val_loss: 0.0149\n",
            "Epoch 27/80\n",
            "3/3 [==============================] - 0s 7ms/step - loss: 0.0196 - val_loss: 0.0148\n",
            "Epoch 28/80\n",
            "3/3 [==============================] - 0s 8ms/step - loss: 0.0194 - val_loss: 0.0144\n",
            "Epoch 29/80\n",
            "3/3 [==============================] - 0s 7ms/step - loss: 0.0192 - val_loss: 0.0142\n",
            "Epoch 30/80\n",
            "3/3 [==============================] - 0s 8ms/step - loss: 0.0208 - val_loss: 0.0141\n",
            "Epoch 31/80\n",
            "3/3 [==============================] - 0s 8ms/step - loss: 0.0215 - val_loss: 0.0140\n",
            "Epoch 32/80\n",
            "3/3 [==============================] - 0s 7ms/step - loss: 0.0201 - val_loss: 0.0142\n",
            "Epoch 33/80\n",
            "3/3 [==============================] - 0s 9ms/step - loss: 0.0188 - val_loss: 0.0140\n",
            "Epoch 34/80\n",
            "3/3 [==============================] - 0s 10ms/step - loss: 0.0183 - val_loss: 0.0153\n",
            "Epoch 35/80\n",
            "3/3 [==============================] - 0s 8ms/step - loss: 0.0186 - val_loss: 0.0136\n",
            "Epoch 36/80\n",
            "3/3 [==============================] - 0s 7ms/step - loss: 0.0183 - val_loss: 0.0133\n",
            "Epoch 37/80\n",
            "3/3 [==============================] - 0s 8ms/step - loss: 0.0178 - val_loss: 0.0132\n",
            "Epoch 38/80\n",
            "3/3 [==============================] - 0s 7ms/step - loss: 0.0181 - val_loss: 0.0130\n",
            "Epoch 39/80\n",
            "3/3 [==============================] - 0s 7ms/step - loss: 0.0181 - val_loss: 0.0140\n",
            "Epoch 40/80\n",
            "3/3 [==============================] - 0s 8ms/step - loss: 0.0177 - val_loss: 0.0133\n",
            "Epoch 41/80\n",
            "3/3 [==============================] - 0s 8ms/step - loss: 0.0181 - val_loss: 0.0134\n",
            "Epoch 42/80\n",
            "3/3 [==============================] - 0s 7ms/step - loss: 0.0200 - val_loss: 0.0130\n",
            "Epoch 43/80\n",
            "3/3 [==============================] - 0s 10ms/step - loss: 0.0185 - val_loss: 0.0132\n",
            "Epoch 44/80\n",
            "3/3 [==============================] - 0s 7ms/step - loss: 0.0171 - val_loss: 0.0142\n",
            "Epoch 45/80\n",
            "3/3 [==============================] - 0s 7ms/step - loss: 0.0182 - val_loss: 0.0149\n",
            "Epoch 46/80\n",
            "3/3 [==============================] - 0s 8ms/step - loss: 0.0186 - val_loss: 0.0129\n",
            "Epoch 47/80\n",
            "3/3 [==============================] - 0s 8ms/step - loss: 0.0176 - val_loss: 0.0135\n",
            "Epoch 48/80\n",
            "3/3 [==============================] - 0s 8ms/step - loss: 0.0183 - val_loss: 0.0132\n",
            "Epoch 49/80\n",
            "3/3 [==============================] - 0s 8ms/step - loss: 0.0179 - val_loss: 0.0136\n",
            "Epoch 50/80\n",
            "3/3 [==============================] - 0s 7ms/step - loss: 0.0199 - val_loss: 0.0125\n",
            "Epoch 51/80\n",
            "3/3 [==============================] - 0s 7ms/step - loss: 0.0171 - val_loss: 0.0127\n",
            "Epoch 52/80\n",
            "3/3 [==============================] - 0s 7ms/step - loss: 0.0188 - val_loss: 0.0126\n",
            "Epoch 53/80\n",
            "3/3 [==============================] - 0s 8ms/step - loss: 0.0188 - val_loss: 0.0130\n",
            "Epoch 54/80\n",
            "3/3 [==============================] - 0s 8ms/step - loss: 0.0195 - val_loss: 0.0125\n",
            "Epoch 55/80\n",
            "3/3 [==============================] - 0s 8ms/step - loss: 0.0200 - val_loss: 0.0130\n",
            "Epoch 56/80\n",
            "3/3 [==============================] - 0s 8ms/step - loss: 0.0211 - val_loss: 0.0132\n",
            "Epoch 57/80\n",
            "3/3 [==============================] - 0s 7ms/step - loss: 0.0216 - val_loss: 0.0127\n",
            "Epoch 58/80\n",
            "3/3 [==============================] - 0s 8ms/step - loss: 0.0196 - val_loss: 0.0125\n",
            "Epoch 59/80\n",
            "3/3 [==============================] - 0s 8ms/step - loss: 0.0209 - val_loss: 0.0126\n",
            "Epoch 60/80\n",
            "3/3 [==============================] - 0s 7ms/step - loss: 0.0200 - val_loss: 0.0132\n",
            "Epoch 61/80\n",
            "3/3 [==============================] - 0s 7ms/step - loss: 0.0185 - val_loss: 0.0123\n",
            "Epoch 62/80\n",
            "3/3 [==============================] - 0s 8ms/step - loss: 0.0180 - val_loss: 0.0131\n",
            "Epoch 63/80\n",
            "3/3 [==============================] - 0s 8ms/step - loss: 0.0171 - val_loss: 0.0128\n",
            "Epoch 64/80\n",
            "3/3 [==============================] - 0s 8ms/step - loss: 0.0170 - val_loss: 0.0127\n",
            "Epoch 65/80\n",
            "3/3 [==============================] - 0s 8ms/step - loss: 0.0171 - val_loss: 0.0126\n",
            "Epoch 66/80\n",
            "3/3 [==============================] - 0s 7ms/step - loss: 0.0191 - val_loss: 0.0122\n",
            "Epoch 67/80\n",
            "3/3 [==============================] - 0s 7ms/step - loss: 0.0185 - val_loss: 0.0128\n",
            "Epoch 68/80\n",
            "3/3 [==============================] - 0s 7ms/step - loss: 0.0185 - val_loss: 0.0125\n",
            "Epoch 69/80\n",
            "3/3 [==============================] - 0s 9ms/step - loss: 0.0175 - val_loss: 0.0128\n",
            "Epoch 70/80\n",
            "3/3 [==============================] - 0s 8ms/step - loss: 0.0179 - val_loss: 0.0123\n",
            "Epoch 71/80\n",
            "3/3 [==============================] - 0s 7ms/step - loss: 0.0171 - val_loss: 0.0122\n",
            "Epoch 72/80\n",
            "3/3 [==============================] - 0s 8ms/step - loss: 0.0178 - val_loss: 0.0128\n",
            "Epoch 73/80\n",
            "3/3 [==============================] - 0s 7ms/step - loss: 0.0168 - val_loss: 0.0128\n",
            "Epoch 74/80\n",
            "3/3 [==============================] - 0s 8ms/step - loss: 0.0169 - val_loss: 0.0129\n",
            "Epoch 75/80\n",
            "3/3 [==============================] - 0s 8ms/step - loss: 0.0171 - val_loss: 0.0127\n",
            "Epoch 76/80\n",
            "3/3 [==============================] - 0s 7ms/step - loss: 0.0173 - val_loss: 0.0140\n",
            "Epoch 77/80\n",
            "3/3 [==============================] - 0s 8ms/step - loss: 0.0182 - val_loss: 0.0140\n",
            "Epoch 78/80\n",
            "3/3 [==============================] - 0s 8ms/step - loss: 0.0196 - val_loss: 0.0159\n",
            "Epoch 79/80\n",
            "3/3 [==============================] - 0s 7ms/step - loss: 0.0209 - val_loss: 0.0155\n",
            "Epoch 80/80\n",
            "3/3 [==============================] - 0s 7ms/step - loss: 0.0204 - val_loss: 0.0142\n"
          ],
          "name": "stdout"
        },
        {
          "output_type": "execute_result",
          "data": {
            "text/plain": [
              "<matplotlib.legend.Legend at 0x7f0d43f17fd0>"
            ]
          },
          "metadata": {
            "tags": []
          },
          "execution_count": 20
        },
        {
          "output_type": "display_data",
          "data": {
            "image/png": "[encoded data removed]",
            "text/plain": [
              "<Figure size 432x288 with 1 Axes>"
            ]
          },
          "metadata": {
            "tags": [],
            "needs_background": "light"
          }
        }
      ]
    },
    {
      "cell_type": "markdown",
      "metadata": {
        "id": "kL5TpqJfNxi4",
        "colab_type": "text"
      },
      "source": [
        "# Part 4: Autoregression (Linear Regression)\n",
        "\n",
        "###AR(2) Autoregressive of the Second Order\n",
        "\n",
        "*  It is possible to predict a sine wave using only two previous values\n",
        "*  This is an AR(2) model\n",
        "*  No bias term is needed\n",
        "$$x(t) = w_1x(t-1) + w_2x(t-2)$$\n",
        "\n",
        "###Create sine wave as function of time\n",
        "\n",
        "*  np.sin(0.1 * np.arange(200))\n",
        "*  np.arange(200) is all the different values of $t$\n",
        "*  0.1 is $\\omega$, angular frequency\n",
        "$$x(t) =sin(\\omega t)$$\n",
        "\n",
        "### Plug in sine wave function\n",
        "\n",
        "*  Replace $x(t)$ with $sin(\\omega t)$\n",
        "*  Note Fibonacci is another recurrence relation where weights are...\n",
        "\n",
        "    * Fi(n) = fib(n-1) + Fib(n-2)\n",
        "\n",
        "$$x(t) = w_1x(t-1) + w_2x(t-2)$$\n",
        "$$x(t+1) = w_1x(t) +w_2x(t-1)$$\n",
        "$$sin(\\omega (t+1)) = w_1 sin(\\omega t)+w_2 sin(\\omega (t-1))$$\n",
        "\n",
        "### Multiply out $\\omega$ \n",
        "\n",
        "$$sin(\\omega (t+1)) = w_1 sin(\\omega t)+w_2 sin(\\omega (t-1))$$\n",
        "$$sin( \\omega t + \\omega) = w_1sin(\\omega t) + w_2 sin(\\omega t - \\omega)$$\n",
        "\n",
        "### Use Trigometric Identities\n",
        "\n",
        "$$sin(a+b) + sin(a-b) = 2 cos(b) sin(a)$$\n",
        "(manipulate above equation)\n",
        "\n",
        "$$sin(\\omega t + \\omega) - w_2sin(\\omega t - \\omega) = w_1sin(\\omega t)$$\n",
        "\n",
        "$$\\omega t = a$$\n",
        "$$\\omega = b$$\n",
        "Also\n",
        "$$w_1 = 2cos(b), \\hspace{3mm} \\text{or} \\hspace{2mm} 2cos(\\omega)$$\n",
        "$$w_2 = -1$$\n",
        "\n"
      ]
    },
    {
      "cell_type": "markdown",
      "metadata": {
        "id": "u1DWWJRBam1-",
        "colab_type": "text"
      },
      "source": [
        "# Part 5. Recurrent Neural Networks\n",
        "\n",
        "What if D is more than one? That is, you have more than one time series data (stocks, rather than stock, or companies, rather than company).\n",
        "\n",
        "*  Flatten the T x D times series into a single feature vector\n",
        "  * 5 electrodes recording 100 time steps -> 500-length vector\n",
        "\n",
        "## Recall ANN\n",
        "Where hidden feature vector is calculated from the input vector, and the output is calculated from the hidden vector:\n",
        "\n",
        "$$h = \\sigma(W_h^Tx + b_h)$$\n",
        "$$\\hat{y} = \\sigma(W_o^Th + b_o)$$\n",
        "\n",
        "$h$ is hidden vector, $o$ is output vector.\n",
        "\n",
        "##For RNN, make the hidden vector now depend on its previous hidden state\n",
        "\n",
        "*  Linear regression forecasting: output is a linear function of inputs\n",
        "*  Now: hidden state is a non-linear function of input and past hidden state\n",
        "   * What kind of nonlinear function? Neuron.\n",
        "\n",
        "$$h_t = \\sigma(W_{xh}^Tx_t + W_{hh}^Th_{t-1}+b_h)$$\n",
        "$$\\hat{y_t} = \\sigma (W_o^Th_t + b_o)$$\n",
        "\n",
        "*  x= input\n",
        "*  h = hidden\n",
        "*  o = output\n",
        "*  xh = input-to-hidden\n",
        "*  hh = hidden-to-hidden\n",
        "\n",
        "##How do we calculate?\n",
        "\n",
        "*  Assume we are given input vectors: $x_1, x_2, \\ldots, x_T$\n",
        "*  Each individual $x_t$ is a vector of size D (Shape($x_t$) = D)\n",
        "*  This entire data would be stored as a matrix of T x D\n",
        "*  From $x_1$ (the first sequence vector) we can calculate $h_1$.\n",
        "$$h_1 = \\sigma (W_{xh}^Tx_1 + W_{hh}^Th_o + b_h)$$\n",
        "\n",
        "*  $h_1$ dependes on $h_o$, but what is $h_o$? This is the initial hidden state. This is usually set to zero in most circumstances.\n",
        "\n",
        "*  With $h_1$ we can calculate $\\hat{y_1}$:\n",
        "$$\\hat{y_1} = \\sigma(W_0^Th_1 + b_o)$$\n",
        "\n",
        "\n",
        "*  Now we consider the 2nd input vector $x_2$. From this we can calculate $h_2$. calcuate the 2nd output.\n",
        "$$h_2 = \\sigma ( W_{xh}^Tx_2 + W_{hh}^Th_1 + b_h)$$\n",
        "$$\\hat{y_2} = \\sigma(W_o^Th_2+b_o)$$\n",
        "\n",
        "*  All the $\\hat{y}$'s except the final $\\hat{y}$, which is $\\hat{y}_T$. Therefore, $\\hat{y}_T$ gives us the final prediction, and all the other $\\hat{y}$'s are discarded.\n",
        "$$\\hat{y}_T = f(x_1, x_2, \\ldots, x_T)$$\n",
        "\n",
        "##Classification Probability\n",
        "For ANN and CNN, output is the probability of each category (k) given x:\n",
        "\n",
        "$$p(y = k|x)$$\n",
        "\n",
        "For RNNs, \n",
        "$$p(y_1 = k|x_1)$$\n",
        "$$p(y_2 = k|x_1, x_2)$$\n",
        "$$p(y_3 = k|x_1, x_2, x_3)$$\n",
        "$$\\cdots$$\n",
        "$$p(y_T = k|x_1, x_2, \\ldots, x_T)$$\n",
        "\n",
        "###Relationship to Markov Models\n",
        "\n",
        "*  The Markov assumption is that the current value only depends on the immdediately previous value\n",
        "\n",
        "   * e.g., the next word only depends on the immediately preceding word, and nothing else.\n",
        "\n",
        "##Writing Pseudo-code to produce $\\hat{y}$ at each time.\n",
        "\n",
        "```\n",
        "Given the following:\n",
        "\n",
        "W_{xh} = input to hidden weight\n",
        "W_{hh} = hiddent to hidden weight\n",
        "b_h = hidden bias\n",
        "W_o = hidden to output weight\n",
        "b_o = output bias\n",
        "X = T x D  input matrix\n",
        "\n",
        "tanh hidden activation\n",
        "softmax ouput activation\n",
        "\n",
        "Yhat = []\n",
        "h_last = 0\n",
        "for t in range(T):\n",
        "  h_t = tanh(X[t].dot(W_x) + h_last.dot(W_h) + b_h)\n",
        "  yhat = softmax(h_t.dot(W_o)+b_o)\n",
        "  Yhat.append(yhat)\n",
        "  #update h_last\n",
        "  h_last = h_t\n",
        "```\n",
        "\n",
        "##Here are some RNN calculations\n",
        "\n",
        "*  T = 100 (number of input vectors)\n",
        "*  D = 10\n",
        "*  M = 15 (number of hidden layers)\n",
        "\n",
        "$W_{xh}$ (input to hidden) = D x M = 10 x 15 = 150.\n",
        "$W_{hh}$ (hidden to hidden) = M x M = 15 x 15 = 225\n",
        "$W_o$ (hidden to output) = M x K = 15 x 1 = 15\n",
        "\n",
        "\n",
        "\n",
        "\n",
        "\n",
        "\n",
        "\n",
        "\n"
      ]
    },
    {
      "cell_type": "markdown",
      "metadata": {
        "id": "_05RlrS5smij",
        "colab_type": "text"
      },
      "source": [
        "# Part 6. RNN Code Preparation\n",
        "\n",
        "Simple RNN Code Preparation (just the name of the model)\n",
        "\n",
        "###Steps:\n",
        "\n",
        "* Step 1: load in the data\n",
        "  * same as before, but not the right shape for our RNN (N x T x D)\n",
        "* Step 2: Build Model\n",
        "* Step 3: Train Model\n",
        "* Step 4: Evaluate Model\n",
        "* Step 5: Make prediction\n",
        "  * need to pay attention to shapes\n",
        "\n",
        "###Load in Data\n",
        "* From a sine wave (with and without noise) create a supervised learning dataset\n",
        "  * Input: sequence of length T\n",
        "  * Next value (scalar)\n",
        "* Count from $t = 0, \\ldots$len(series)-T\n",
        "  * since final target should be at len(series)-1\n",
        "* Linear Regression expects 2-D input\n",
        "  * we pass in N x T array\n",
        "* RNN expects 3-D input, N x T x D \n",
        "  * we pass N x T x 1\n"
      ]
    },
    {
      "cell_type": "code",
      "metadata": {
        "id": "WMlO_mERv7be",
        "colab_type": "code",
        "colab": {}
      },
      "source": [
        ""
      ],
      "execution_count": null,
      "outputs": []
    },
    {
      "cell_type": "code",
      "metadata": {
        "id": "K3NOi5NNv721",
        "colab_type": "code",
        "colab": {}
      },
      "source": [
        "#Instantiate the model\n",
        "#from tensorflow.keras.layers import Input, SimpleRNN, Dense\n",
        "#i = Input(shape =(T,1))\n",
        "#x = SimpleRNN(5, activation = 'relu')(i)\n",
        "#x = Dense(1)(x)\n",
        "#model = Model(i, x)\n",
        "\n",
        "#Train and evaluate model\n",
        "#model.compile(loss = 'mse',\n",
        "              #optimizer = Adam(lr = 0.1))\n",
        "\n",
        "#train RNN\n",
        "#r = model.fit(\n",
        "    #X[:-N//2],Y[:-N//2],\n",
        "    #epochs = 80,\n",
        "    #validation_data = (X[-N//2:],Y[-N//2:])\n",
        "#)\n",
        "\n"
      ],
      "execution_count": null,
      "outputs": []
    },
    {
      "cell_type": "markdown",
      "metadata": {
        "id": "yh-lorUxzbm5",
        "colab_type": "text"
      },
      "source": [
        "### Make predictions\n",
        "\n",
        "*  Input shape will be N x T x D (N is number of samples, T is the sequence length of vector, and D is number of features), output shape will be N X K\n",
        "   * N =1, D =1, K =1\n",
        "*  A single time-series input will be a 1-D array of length T\n",
        "```\n",
        "model.predict(x.reshape(1, T, 1))[0,0] #the number of samples is 1, and the\n",
        "#number of features is 1\n",
        "```\n"
      ]
    },
    {
      "cell_type": "markdown",
      "metadata": {
        "id": "6rQsn0USHe89",
        "colab_type": "text"
      },
      "source": [
        "# Part 7: RNN for Times Series Prediction\n",
        "\n"
      ]
    },
    {
      "cell_type": "code",
      "metadata": {
        "id": "LC0tbRt_Htul",
        "colab_type": "code",
        "colab": {
          "base_uri": "https://localhost:8080/",
          "height": 683
        },
        "outputId": "09c33cc4-c0e3-4b1b-d73f-1394a25979cd"
      },
      "source": [
        "!pip install  --upgrade tensorflow\n",
        "import tensorflow as tf\n",
        "print(tf.__version__)\n",
        "\n",
        "from tensorflow.keras.layers import Input, SimpleRNN, Dense, Flatten\n",
        "from tensorflow.keras.models import Model\n",
        "from tensorflow.keras.optimizers import SGD, Adam\n",
        "\n",
        "import numpy as np\n",
        "import pandas as pd\n",
        "import matplotlib.pyplot as plt"
      ],
      "execution_count": null,
      "outputs": [
        {
          "output_type": "stream",
          "text": [
            "Requirement already up-to-date: tensorflow in /usr/local/lib/python3.6/dist-packages (2.3.0)\n",
            "Requirement already satisfied, skipping upgrade: h5py<2.11.0,>=2.10.0 in /usr/local/lib/python3.6/dist-packages (from tensorflow) (2.10.0)\n",
            "Requirement already satisfied, skipping upgrade: gast==0.3.3 in /usr/local/lib/python3.6/dist-packages (from tensorflow) (0.3.3)\n",
            "Requirement already satisfied, skipping upgrade: tensorflow-estimator<2.4.0,>=2.3.0 in /usr/local/lib/python3.6/dist-packages (from tensorflow) (2.3.0)\n",
            "Requirement already satisfied, skipping upgrade: keras-preprocessing<1.2,>=1.1.1 in /usr/local/lib/python3.6/dist-packages (from tensorflow) (1.1.2)\n",
            "Requirement already satisfied, skipping upgrade: protobuf>=3.9.2 in /usr/local/lib/python3.6/dist-packages (from tensorflow) (3.12.4)\n",
            "Requirement already satisfied, skipping upgrade: tensorboard<3,>=2.3.0 in /usr/local/lib/python3.6/dist-packages (from tensorflow) (2.3.0)\n",
            "Requirement already satisfied, skipping upgrade: astunparse==1.6.3 in /usr/local/lib/python3.6/dist-packages (from tensorflow) (1.6.3)\n",
            "Requirement already satisfied, skipping upgrade: opt-einsum>=2.3.2 in /usr/local/lib/python3.6/dist-packages (from tensorflow) (3.3.0)\n",
            "Requirement already satisfied, skipping upgrade: google-pasta>=0.1.8 in /usr/local/lib/python3.6/dist-packages (from tensorflow) (0.2.0)\n",
            "Requirement already satisfied, skipping upgrade: scipy==1.4.1 in /usr/local/lib/python3.6/dist-packages (from tensorflow) (1.4.1)\n",
            "Requirement already satisfied, skipping upgrade: six>=1.12.0 in /usr/local/lib/python3.6/dist-packages (from tensorflow) (1.15.0)\n",
            "Requirement already satisfied, skipping upgrade: grpcio>=1.8.6 in /usr/local/lib/python3.6/dist-packages (from tensorflow) (1.32.0)\n",
            "Requirement already satisfied, skipping upgrade: termcolor>=1.1.0 in /usr/local/lib/python3.6/dist-packages (from tensorflow) (1.1.0)\n",
            "Requirement already satisfied, skipping upgrade: absl-py>=0.7.0 in /usr/local/lib/python3.6/dist-packages (from tensorflow) (0.10.0)\n",
            "Requirement already satisfied, skipping upgrade: wrapt>=1.11.1 in /usr/local/lib/python3.6/dist-packages (from tensorflow) (1.12.1)\n",
            "Requirement already satisfied, skipping upgrade: wheel>=0.26 in /usr/local/lib/python3.6/dist-packages (from tensorflow) (0.35.1)\n",
            "Requirement already satisfied, skipping upgrade: numpy<1.19.0,>=1.16.0 in /usr/local/lib/python3.6/dist-packages (from tensorflow) (1.18.5)\n",
            "Requirement already satisfied, skipping upgrade: setuptools in /usr/local/lib/python3.6/dist-packages (from protobuf>=3.9.2->tensorflow) (50.3.0)\n",
            "Requirement already satisfied, skipping upgrade: werkzeug>=0.11.15 in /usr/local/lib/python3.6/dist-packages (from tensorboard<3,>=2.3.0->tensorflow) (1.0.1)\n",
            "Requirement already satisfied, skipping upgrade: tensorboard-plugin-wit>=1.6.0 in /usr/local/lib/python3.6/dist-packages (from tensorboard<3,>=2.3.0->tensorflow) (1.7.0)\n",
            "Requirement already satisfied, skipping upgrade: google-auth-oauthlib<0.5,>=0.4.1 in /usr/local/lib/python3.6/dist-packages (from tensorboard<3,>=2.3.0->tensorflow) (0.4.1)\n",
            "Requirement already satisfied, skipping upgrade: requests<3,>=2.21.0 in /usr/local/lib/python3.6/dist-packages (from tensorboard<3,>=2.3.0->tensorflow) (2.23.0)\n",
            "Requirement already satisfied, skipping upgrade: markdown>=2.6.8 in /usr/local/lib/python3.6/dist-packages (from tensorboard<3,>=2.3.0->tensorflow) (3.2.2)\n",
            "Requirement already satisfied, skipping upgrade: google-auth<2,>=1.6.3 in /usr/local/lib/python3.6/dist-packages (from tensorboard<3,>=2.3.0->tensorflow) (1.17.2)\n",
            "Requirement already satisfied, skipping upgrade: requests-oauthlib>=0.7.0 in /usr/local/lib/python3.6/dist-packages (from google-auth-oauthlib<0.5,>=0.4.1->tensorboard<3,>=2.3.0->tensorflow) (1.3.0)\n",
            "Requirement already satisfied, skipping upgrade: certifi>=2017.4.17 in /usr/local/lib/python3.6/dist-packages (from requests<3,>=2.21.0->tensorboard<3,>=2.3.0->tensorflow) (2020.6.20)\n",
            "Requirement already satisfied, skipping upgrade: urllib3!=1.25.0,!=1.25.1,<1.26,>=1.21.1 in /usr/local/lib/python3.6/dist-packages (from requests<3,>=2.21.0->tensorboard<3,>=2.3.0->tensorflow) (1.24.3)\n",
            "Requirement already satisfied, skipping upgrade: chardet<4,>=3.0.2 in /usr/local/lib/python3.6/dist-packages (from requests<3,>=2.21.0->tensorboard<3,>=2.3.0->tensorflow) (3.0.4)\n",
            "Requirement already satisfied, skipping upgrade: idna<3,>=2.5 in /usr/local/lib/python3.6/dist-packages (from requests<3,>=2.21.0->tensorboard<3,>=2.3.0->tensorflow) (2.10)\n",
            "Requirement already satisfied, skipping upgrade: importlib-metadata; python_version < \"3.8\" in /usr/local/lib/python3.6/dist-packages (from markdown>=2.6.8->tensorboard<3,>=2.3.0->tensorflow) (1.7.0)\n",
            "Requirement already satisfied, skipping upgrade: rsa<5,>=3.1.4; python_version >= \"3\" in /usr/local/lib/python3.6/dist-packages (from google-auth<2,>=1.6.3->tensorboard<3,>=2.3.0->tensorflow) (4.6)\n",
            "Requirement already satisfied, skipping upgrade: cachetools<5.0,>=2.0.0 in /usr/local/lib/python3.6/dist-packages (from google-auth<2,>=1.6.3->tensorboard<3,>=2.3.0->tensorflow) (4.1.1)\n",
            "Requirement already satisfied, skipping upgrade: pyasn1-modules>=0.2.1 in /usr/local/lib/python3.6/dist-packages (from google-auth<2,>=1.6.3->tensorboard<3,>=2.3.0->tensorflow) (0.2.8)\n",
            "Requirement already satisfied, skipping upgrade: oauthlib>=3.0.0 in /usr/local/lib/python3.6/dist-packages (from requests-oauthlib>=0.7.0->google-auth-oauthlib<0.5,>=0.4.1->tensorboard<3,>=2.3.0->tensorflow) (3.1.0)\n",
            "Requirement already satisfied, skipping upgrade: zipp>=0.5 in /usr/local/lib/python3.6/dist-packages (from importlib-metadata; python_version < \"3.8\"->markdown>=2.6.8->tensorboard<3,>=2.3.0->tensorflow) (3.1.0)\n",
            "Requirement already satisfied, skipping upgrade: pyasn1>=0.1.3 in /usr/local/lib/python3.6/dist-packages (from rsa<5,>=3.1.4; python_version >= \"3\"->google-auth<2,>=1.6.3->tensorboard<3,>=2.3.0->tensorflow) (0.4.8)\n",
            "2.3.0\n"
          ],
          "name": "stdout"
        }
      ]
    },
    {
      "cell_type": "code",
      "metadata": {
        "id": "YZxVMUqSIcmZ",
        "colab_type": "code",
        "colab": {
          "base_uri": "https://localhost:8080/",
          "height": 265
        },
        "outputId": "fb6ecb98-b755-46b3-bb9b-f9eb0ea2e979"
      },
      "source": [
        "#Create data which is sine wave with optional noise (first without noise)\n",
        "series = np.sin(0.1 * np.arange(200)) #+ np.random.randn(200) * 0.1\n",
        "\n",
        "#Plot it\n",
        "plt.plot(series)\n",
        "plt.show()"
      ],
      "execution_count": null,
      "outputs": [
        {
          "output_type": "display_data",
          "data": {
            "image/png": "[encoded data removed]",
            "text/plain": [
              "<Figure size 432x288 with 1 Axes>"
            ]
          },
          "metadata": {
            "tags": [],
            "needs_background": "light"
          }
        }
      ]
    },
    {
      "cell_type": "code",
      "metadata": {
        "id": "IOAp8hR1jADE",
        "colab_type": "code",
        "colab": {}
      },
      "source": [
        "#New code to save data as .csv\n",
        "from numpy import savetxt\n",
        "\n",
        "T = 10\n",
        "D = 1\n",
        "X = []\n",
        "Y = []\n",
        "for t in range(len(series) - T):\n",
        "  x = series[t:t+T]\n",
        "  X.append(x)\n",
        "  y = series[t + T]\n",
        "  Y.append(y)\n",
        "data = X\n",
        "Y = np.array(Y).reshape(-1, T)\n",
        "Y.shape\n",
        "\n",
        " \n",
        "Y.tofile('dataY.csv', sep = ' ')\n",
        "savetxt('dataX.csv', data, delimiter=',')\n",
        "np.savetxt(r\"C:\\Users\\mbrow\\OneDrive\\Desktop\\NewFolder\\dataX.csv\",data)\n",
        "np.savetxt('dataY.csv', Y, delimiter=',')\n",
        "\n",
        "\n",
        "from google.colab import files\n",
        "files.download('dataX.csv')\n",
        "files.download('dataY.csv')\n",
        "\n"
      ],
      "execution_count": null,
      "outputs": []
    },
    {
      "cell_type": "code",
      "metadata": {
        "id": "RA_gUhRvKDFC",
        "colab_type": "code",
        "colab": {
          "base_uri": "https://localhost:8080/",
          "height": 34
        },
        "outputId": "fd95b449-eb13-4d14-b6f4-b95cf906ac02"
      },
      "source": [
        "#create supervised learning data: N x T x D input, and N-length target\n",
        "T = 10\n",
        "D = 1\n",
        "X = []\n",
        "Y = []\n",
        "for t in range(len(series) - T):\n",
        "  x = series[t:t+T]\n",
        "  X.append(x)\n",
        "  y = series[t + T]\n",
        "  Y.append(y)\n",
        "X = np.array(X).reshape(-1, T, 1) #Now data is N x T x D. -1 is wildcard so it makes sure the last dimensions are T and 1\n",
        "Y = np.array(Y)\n",
        "N = len(X)\n",
        "print(\"X.shape: \", X.shape, \"Y.shape: \", Y.shape)\n",
        "#X[1,:,:]\n",
        "\n",
        "\n"
      ],
      "execution_count": null,
      "outputs": [
        {
          "output_type": "stream",
          "text": [
            "X.shape:  (190, 10, 1) Y.shape:  (190,)\n"
          ],
          "name": "stdout"
        }
      ]
    },
    {
      "cell_type": "code",
      "metadata": {
        "id": "Zva4UNH3N94s",
        "colab_type": "code",
        "colab": {}
      },
      "source": [
        "!# Access files from your Google Drive\n",
        "from google.colab import drive\n",
        "drive.mount('/content/gdrive')\n",
        "\n",
        "!ls '/content/gdrive/My Drive/'"
      ],
      "execution_count": null,
      "outputs": []
    },
    {
      "cell_type": "code",
      "metadata": {
        "id": "V1CxAbKbBk58",
        "colab_type": "code",
        "colab": {
          "base_uri": "https://localhost:8080/",
          "height": 1000
        },
        "outputId": "0f2ba6a9-9a34-443d-b9a3-7e1a22ca3313"
      },
      "source": [
        "#Build autoregressive RNN model\n",
        "i = Input(shape = (T,1))\n",
        "x = SimpleRNN(5, activation = None)(i)#try to set activation = None instead of 'relu'\n",
        "#could run default 10h; x = SimpleRNN(5)(i)\n",
        "x = Dense(1)(x)\n",
        "model = Model(i, x)\n",
        "model.compile(\n",
        "    loss = 'mse',\n",
        "    optimizer = Adam(lr = 0.1)\n",
        ")\n",
        "\n",
        "#train RNN. Validation data for forecasting should include future data points.\n",
        "r = model.fit(\n",
        "    X[:-N//2], Y[:-N//2],\n",
        "    epochs = 80,\n",
        "    validation_data = (X[-N//2:], Y[-N//2:]),\n",
        ")"
      ],
      "execution_count": null,
      "outputs": [
        {
          "output_type": "stream",
          "text": [
            "Epoch 1/80\n",
            "3/3 [==============================] - 0s 59ms/step - loss: 2.1617 - val_loss: 0.7547\n",
            "Epoch 2/80\n",
            "3/3 [==============================] - 0s 9ms/step - loss: 0.7030 - val_loss: 0.6925\n",
            "Epoch 3/80\n",
            "3/3 [==============================] - 0s 9ms/step - loss: 0.5572 - val_loss: 0.4949\n",
            "Epoch 4/80\n",
            "3/3 [==============================] - 0s 9ms/step - loss: 0.4957 - val_loss: 0.5095\n",
            "Epoch 5/80\n",
            "3/3 [==============================] - 0s 10ms/step - loss: 0.3610 - val_loss: 0.2194\n",
            "Epoch 6/80\n",
            "3/3 [==============================] - 0s 9ms/step - loss: 0.1789 - val_loss: 0.1339\n",
            "Epoch 7/80\n",
            "3/3 [==============================] - 0s 8ms/step - loss: 0.0948 - val_loss: 0.0371\n",
            "Epoch 8/80\n",
            "3/3 [==============================] - 0s 8ms/step - loss: 0.0271 - val_loss: 0.0102\n",
            "Epoch 9/80\n",
            "3/3 [==============================] - 0s 9ms/step - loss: 0.0188 - val_loss: 0.0242\n",
            "Epoch 10/80\n",
            "3/3 [==============================] - 0s 9ms/step - loss: 0.0382 - val_loss: 0.0185\n",
            "Epoch 11/80\n",
            "3/3 [==============================] - 0s 9ms/step - loss: 0.0146 - val_loss: 0.0013\n",
            "Epoch 12/80\n",
            "3/3 [==============================] - 0s 9ms/step - loss: 8.9247e-04 - val_loss: 0.0024\n",
            "Epoch 13/80\n",
            "3/3 [==============================] - 0s 11ms/step - loss: 0.0042 - val_loss: 0.0071\n",
            "Epoch 14/80\n",
            "3/3 [==============================] - 0s 10ms/step - loss: 0.0101 - val_loss: 0.0105\n",
            "Epoch 15/80\n",
            "3/3 [==============================] - 0s 9ms/step - loss: 0.0169 - val_loss: 0.0063\n",
            "Epoch 16/80\n",
            "3/3 [==============================] - 0s 8ms/step - loss: 0.0074 - val_loss: 0.0031\n",
            "Epoch 17/80\n",
            "3/3 [==============================] - 0s 8ms/step - loss: 0.0068 - val_loss: 0.0014\n",
            "Epoch 18/80\n",
            "3/3 [==============================] - 0s 9ms/step - loss: 0.0068 - val_loss: 0.0010\n",
            "Epoch 19/80\n",
            "3/3 [==============================] - 0s 9ms/step - loss: 0.0036 - val_loss: 0.0041\n",
            "Epoch 20/80\n",
            "3/3 [==============================] - 0s 9ms/step - loss: 0.0049 - val_loss: 6.7287e-04\n",
            "Epoch 21/80\n",
            "3/3 [==============================] - 0s 8ms/step - loss: 0.0020 - val_loss: 0.0011\n",
            "Epoch 22/80\n",
            "3/3 [==============================] - 0s 9ms/step - loss: 0.0014 - val_loss: 0.0013\n",
            "Epoch 23/80\n",
            "3/3 [==============================] - 0s 9ms/step - loss: 0.0014 - val_loss: 0.0013\n",
            "Epoch 24/80\n",
            "3/3 [==============================] - 0s 8ms/step - loss: 0.0012 - val_loss: 6.7382e-04\n",
            "Epoch 25/80\n",
            "3/3 [==============================] - 0s 9ms/step - loss: 9.0186e-04 - val_loss: 3.3734e-04\n",
            "Epoch 26/80\n",
            "3/3 [==============================] - 0s 9ms/step - loss: 6.1567e-04 - val_loss: 1.6841e-04\n",
            "Epoch 27/80\n",
            "3/3 [==============================] - 0s 8ms/step - loss: 3.8042e-04 - val_loss: 7.8693e-05\n",
            "Epoch 28/80\n",
            "3/3 [==============================] - 0s 8ms/step - loss: 2.8866e-04 - val_loss: 8.5919e-05\n",
            "Epoch 29/80\n",
            "3/3 [==============================] - 0s 9ms/step - loss: 1.9868e-04 - val_loss: 1.5522e-04\n",
            "Epoch 30/80\n",
            "3/3 [==============================] - 0s 8ms/step - loss: 9.1316e-05 - val_loss: 9.2345e-05\n",
            "Epoch 31/80\n",
            "3/3 [==============================] - 0s 8ms/step - loss: 5.5782e-05 - val_loss: 4.1833e-05\n",
            "Epoch 32/80\n",
            "3/3 [==============================] - 0s 8ms/step - loss: 5.2452e-05 - val_loss: 4.4507e-05\n",
            "Epoch 33/80\n",
            "3/3 [==============================] - 0s 10ms/step - loss: 6.6532e-05 - val_loss: 1.7899e-05\n",
            "Epoch 34/80\n",
            "3/3 [==============================] - 0s 9ms/step - loss: 5.3711e-05 - val_loss: 1.0393e-05\n",
            "Epoch 35/80\n",
            "3/3 [==============================] - 0s 9ms/step - loss: 2.6808e-05 - val_loss: 1.1130e-05\n",
            "Epoch 36/80\n",
            "3/3 [==============================] - 0s 8ms/step - loss: 1.6836e-05 - val_loss: 3.3124e-05\n",
            "Epoch 37/80\n",
            "3/3 [==============================] - 0s 9ms/step - loss: 1.4028e-05 - val_loss: 1.9324e-05\n",
            "Epoch 38/80\n",
            "3/3 [==============================] - 0s 9ms/step - loss: 1.9587e-05 - val_loss: 1.1819e-05\n",
            "Epoch 39/80\n",
            "3/3 [==============================] - 0s 8ms/step - loss: 1.6610e-05 - val_loss: 1.7571e-06\n",
            "Epoch 40/80\n",
            "3/3 [==============================] - 0s 9ms/step - loss: 1.2992e-05 - val_loss: 8.7866e-07\n",
            "Epoch 41/80\n",
            "3/3 [==============================] - 0s 10ms/step - loss: 7.1254e-06 - val_loss: 3.7501e-06\n",
            "Epoch 42/80\n",
            "3/3 [==============================] - 0s 9ms/step - loss: 5.4389e-06 - val_loss: 5.9843e-06\n",
            "Epoch 43/80\n",
            "3/3 [==============================] - 0s 9ms/step - loss: 3.9510e-06 - val_loss: 5.0576e-06\n",
            "Epoch 44/80\n",
            "3/3 [==============================] - 0s 8ms/step - loss: 2.7750e-06 - val_loss: 2.9407e-06\n",
            "Epoch 45/80\n",
            "3/3 [==============================] - 0s 8ms/step - loss: 2.6904e-06 - val_loss: 2.4124e-06\n",
            "Epoch 46/80\n",
            "3/3 [==============================] - 0s 8ms/step - loss: 2.9129e-06 - val_loss: 1.3905e-06\n",
            "Epoch 47/80\n",
            "3/3 [==============================] - 0s 8ms/step - loss: 2.0162e-06 - val_loss: 3.4079e-07\n",
            "Epoch 48/80\n",
            "3/3 [==============================] - 0s 9ms/step - loss: 1.0631e-06 - val_loss: 2.7553e-07\n",
            "Epoch 49/80\n",
            "3/3 [==============================] - 0s 10ms/step - loss: 9.4800e-07 - val_loss: 2.6198e-07\n",
            "Epoch 50/80\n",
            "3/3 [==============================] - 0s 9ms/step - loss: 5.1487e-07 - val_loss: 1.9709e-07\n",
            "Epoch 51/80\n",
            "3/3 [==============================] - 0s 9ms/step - loss: 3.4738e-07 - val_loss: 2.0348e-07\n",
            "Epoch 52/80\n",
            "3/3 [==============================] - 0s 9ms/step - loss: 2.0040e-07 - val_loss: 8.7723e-08\n",
            "Epoch 53/80\n",
            "3/3 [==============================] - 0s 9ms/step - loss: 1.7877e-07 - val_loss: 1.5244e-07\n",
            "Epoch 54/80\n",
            "3/3 [==============================] - 0s 9ms/step - loss: 1.8402e-07 - val_loss: 1.0156e-07\n",
            "Epoch 55/80\n",
            "3/3 [==============================] - 0s 9ms/step - loss: 1.2259e-07 - val_loss: 1.0070e-07\n",
            "Epoch 56/80\n",
            "3/3 [==============================] - 0s 8ms/step - loss: 8.6225e-08 - val_loss: 1.0963e-07\n",
            "Epoch 57/80\n",
            "3/3 [==============================] - 0s 10ms/step - loss: 7.6162e-08 - val_loss: 6.9894e-08\n",
            "Epoch 58/80\n",
            "3/3 [==============================] - 0s 8ms/step - loss: 3.9505e-08 - val_loss: 2.8994e-08\n",
            "Epoch 59/80\n",
            "3/3 [==============================] - 0s 9ms/step - loss: 2.6752e-08 - val_loss: 2.2713e-08\n",
            "Epoch 60/80\n",
            "3/3 [==============================] - 0s 8ms/step - loss: 1.9352e-08 - val_loss: 1.5021e-08\n",
            "Epoch 61/80\n",
            "3/3 [==============================] - 0s 10ms/step - loss: 1.2151e-08 - val_loss: 1.5145e-08\n",
            "Epoch 62/80\n",
            "3/3 [==============================] - 0s 9ms/step - loss: 9.2841e-09 - val_loss: 1.0096e-08\n",
            "Epoch 63/80\n",
            "3/3 [==============================] - 0s 8ms/step - loss: 5.2122e-09 - val_loss: 5.3184e-09\n",
            "Epoch 64/80\n",
            "3/3 [==============================] - 0s 8ms/step - loss: 5.0002e-09 - val_loss: 4.7190e-09\n",
            "Epoch 65/80\n",
            "3/3 [==============================] - 0s 13ms/step - loss: 3.9375e-09 - val_loss: 4.6321e-09\n",
            "Epoch 66/80\n",
            "3/3 [==============================] - 0s 9ms/step - loss: 4.1016e-09 - val_loss: 4.0862e-09\n",
            "Epoch 67/80\n",
            "3/3 [==============================] - 0s 9ms/step - loss: 2.6163e-09 - val_loss: 4.0576e-09\n",
            "Epoch 68/80\n",
            "3/3 [==============================] - 0s 8ms/step - loss: 2.4102e-09 - val_loss: 3.4626e-09\n",
            "Epoch 69/80\n",
            "3/3 [==============================] - 0s 9ms/step - loss: 2.4196e-09 - val_loss: 1.8734e-09\n",
            "Epoch 70/80\n",
            "3/3 [==============================] - 0s 10ms/step - loss: 1.6282e-09 - val_loss: 9.0570e-10\n",
            "Epoch 71/80\n",
            "3/3 [==============================] - 0s 10ms/step - loss: 9.3842e-10 - val_loss: 9.6401e-10\n",
            "Epoch 72/80\n",
            "3/3 [==============================] - 0s 9ms/step - loss: 8.7225e-10 - val_loss: 6.8581e-10\n",
            "Epoch 73/80\n",
            "3/3 [==============================] - 0s 9ms/step - loss: 7.7992e-10 - val_loss: 3.5481e-10\n",
            "Epoch 74/80\n",
            "3/3 [==============================] - 0s 9ms/step - loss: 3.5223e-10 - val_loss: 2.4877e-10\n",
            "Epoch 75/80\n",
            "3/3 [==============================] - 0s 9ms/step - loss: 4.2012e-10 - val_loss: 1.7565e-10\n",
            "Epoch 76/80\n",
            "3/3 [==============================] - 0s 9ms/step - loss: 4.6406e-10 - val_loss: 1.3913e-10\n",
            "Epoch 77/80\n",
            "3/3 [==============================] - 0s 9ms/step - loss: 3.3049e-10 - val_loss: 3.6756e-11\n",
            "Epoch 78/80\n",
            "3/3 [==============================] - 0s 9ms/step - loss: 2.3306e-10 - val_loss: 1.8080e-11\n",
            "Epoch 79/80\n",
            "3/3 [==============================] - 0s 11ms/step - loss: 1.6361e-10 - val_loss: 2.9578e-11\n",
            "Epoch 80/80\n",
            "3/3 [==============================] - 0s 9ms/step - loss: 1.5169e-10 - val_loss: 2.2793e-11\n"
          ],
          "name": "stdout"
        }
      ]
    },
    {
      "cell_type": "code",
      "metadata": {
        "id": "dmajW9wCEZJn",
        "colab_type": "code",
        "colab": {
          "base_uri": "https://localhost:8080/",
          "height": 282
        },
        "outputId": "80596831-6e6d-4302-a6df-6549990d016e"
      },
      "source": [
        "#plot the loss\n",
        "import matplotlib.pyplot as plt\n",
        "plt.plot(r.history['loss'], label='loss')\n",
        "plt.plot(r.history['val_loss'], label = 'val_loss')\n",
        "plt.legend()"
      ],
      "execution_count": null,
      "outputs": [
        {
          "output_type": "execute_result",
          "data": {
            "text/plain": [
              "<matplotlib.legend.Legend at 0x7f0d4403f0b8>"
            ]
          },
          "metadata": {
            "tags": []
          },
          "execution_count": 30
        },
        {
          "output_type": "display_data",
          "data": {
            "image/png": "[encoded data removed]",
            "text/plain": [
              "<Figure size 432x288 with 1 Axes>"
            ]
          },
          "metadata": {
            "tags": [],
            "needs_background": "light"
          }
        }
      ]
    },
    {
      "cell_type": "code",
      "metadata": {
        "id": "mPLaItH5wEcO",
        "colab_type": "code",
        "colab": {
          "base_uri": "https://localhost:8080/",
          "height": 282
        },
        "outputId": "a9bdcce0-824c-4653-de29-563e16fb40f3"
      },
      "source": [
        "#Wrong forecasting using true targets\n",
        "#Forecast future values(use only self-predicted values)\n",
        "validation_target = Y[-N//2:]\n",
        "validation_predictions = []\n",
        "\n",
        "#index of first validation input\n",
        "i = -N//2 \n",
        " \n",
        "while len(validation_predictions) < len(validation_target):\n",
        "  p = model.predict(X[i].reshape(1,-1,1))[0,0] #1 x 1 array - scalar\n",
        "  #update predictions\n",
        "  validation_predictions.append(p)\n",
        "  i += 1\n",
        "\n",
        "plt.plot(validation_target, label = \"forecast target\")\n",
        "plt.plot(validation_predictions, label = \"forecast predictions\")\n",
        "plt.legend()\n",
        "\n",
        " "
      ],
      "execution_count": null,
      "outputs": [
        {
          "output_type": "execute_result",
          "data": {
            "text/plain": [
              "<matplotlib.legend.Legend at 0x7f0d43e62748>"
            ]
          },
          "metadata": {
            "tags": []
          },
          "execution_count": 31
        },
        {
          "output_type": "display_data",
          "data": {
            "image/png": "[encoded data removed]",
            "text/plain": [
              "<Figure size 432x288 with 1 Axes>"
            ]
          },
          "metadata": {
            "tags": [],
            "needs_background": "light"
          }
        }
      ]
    },
    {
      "cell_type": "code",
      "metadata": {
        "id": "rOww04TRy8Vd",
        "colab_type": "code",
        "colab": {}
      },
      "source": [
        "#Right way for forecasting: Use only self-predictions for making future predictions (not actual data)\n",
        "#Forecast future values(use only self-predicted values)\n",
        "validation_target = Y[-N//2:]\n",
        "validation_predictions = []\n",
        "\n",
        "#last train input\n",
        "last_x = X[-N//2] #1-D array of length T (10 observations)\n",
        " \n",
        "while len(validation_predictions) < len(validation_target):\n",
        "  p = model.predict(last_x.reshape(1,-1, 1))[0,0] #scalar\n",
        "  #update predictions\n",
        "  validation_predictions.append(p)\n",
        "  #make the new input\n",
        "  last_x = np.roll(last_x, -1)\n",
        "  last_x[-1] = p\n"
      ],
      "execution_count": null,
      "outputs": []
    },
    {
      "cell_type": "code",
      "metadata": {
        "id": "_VC7VyOL0E57",
        "colab_type": "code",
        "colab": {
          "base_uri": "https://localhost:8080/",
          "height": 282
        },
        "outputId": "b677d10e-d748-4e49-a5a2-bb6bf903eb0f"
      },
      "source": [
        "\n",
        "plt.plot(validation_target, label = 'forecast target')\n",
        "plt.plot(validation_predictions, label = 'forecast predictions')\n",
        "plt.legend()"
      ],
      "execution_count": null,
      "outputs": [
        {
          "output_type": "execute_result",
          "data": {
            "text/plain": [
              "<matplotlib.legend.Legend at 0x7f0d47060a58>"
            ]
          },
          "metadata": {
            "tags": []
          },
          "execution_count": 33
        },
        {
          "output_type": "display_data",
          "data": {
            "image/png": "[encoded data removed]",
            "text/plain": [
              "<Figure size 432x288 with 1 Axes>"
            ]
          },
          "metadata": {
            "tags": [],
            "needs_background": "light"
          }
        }
      ]
    },
    {
      "cell_type": "markdown",
      "metadata": {
        "id": "cyxnK1C72xOi",
        "colab_type": "text"
      },
      "source": [
        "#### An RNN with no activations is a linear model, and we know that an AR(2) will model the sine wave perfectly.\n"
      ]
    },
    {
      "cell_type": "code",
      "metadata": {
        "id": "ZTknsIAA3CeN",
        "colab_type": "code",
        "colab": {
          "base_uri": "https://localhost:8080/",
          "height": 265
        },
        "outputId": "78f5abb1-e620-46b5-d4ab-420e29b30a34"
      },
      "source": [
        "###Add noise to the data set\n",
        "#Create data which is sine wave with optional noise (first without noise)\n",
        "series = np.sin(0.1 * np.arange(200)) + np.random.randn(200) * 0.1\n",
        "\n",
        "#Plot it\n",
        "plt.plot(series)\n",
        "plt.show()"
      ],
      "execution_count": null,
      "outputs": [
        {
          "output_type": "display_data",
          "data": {
            "image/png": "[encoded data removed]",
            "text/plain": [
              "<Figure size 432x288 with 1 Axes>"
            ]
          },
          "metadata": {
            "tags": [],
            "needs_background": "light"
          }
        }
      ]
    },
    {
      "cell_type": "code",
      "metadata": {
        "id": "N-axSHVv3VE3",
        "colab_type": "code",
        "colab": {
          "base_uri": "https://localhost:8080/",
          "height": 34
        },
        "outputId": "1dba685b-dc3c-4266-a89b-65e1b67ee601"
      },
      "source": [
        "#create supervised learning data: N x T x D input, and N-length target\n",
        "T = 10\n",
        "D = 1\n",
        "X = []\n",
        "Y = []\n",
        "for t in range(len(series) - T):\n",
        "  x = series[t:t+T]\n",
        "  X.append(x)\n",
        "  y = series[t + T]\n",
        "  Y.append(y)\n",
        "X = np.array(X).reshape(-1, T, 1) #Now data is N x T x D. -1 is wildcard so it makes sure the last dimensions are T and 1\n",
        "Y = np.array(Y)\n",
        "N = len(X)\n",
        "print(\"X.shape: \", X.shape, \"Y.shape: \", Y.shape)\n",
        "#X[1,:,:]"
      ],
      "execution_count": null,
      "outputs": [
        {
          "output_type": "stream",
          "text": [
            "X.shape:  (190, 10, 1) Y.shape:  (190,)\n"
          ],
          "name": "stdout"
        }
      ]
    },
    {
      "cell_type": "code",
      "metadata": {
        "id": "w6bGk7gC3fOH",
        "colab_type": "code",
        "colab": {
          "base_uri": "https://localhost:8080/",
          "height": 1000
        },
        "outputId": "5bcb201a-a9e2-4538-9acb-7fe8dc105be6"
      },
      "source": [
        "#Build autoregressive RNN model\n",
        "i = Input(shape = (T,1))\n",
        "x = SimpleRNN(5, activation = 'relu')(i)#try to set activation = None instead of 'relu'. Default is 'tanh'\n",
        "#could run default 10h; x = SimpleRNN(5)(i)\n",
        "x = Dense(1)(x)\n",
        "model = Model(i, x)\n",
        "model.compile(\n",
        "    loss = 'mse',\n",
        "    optimizer = Adam(lr = 0.1)\n",
        ")\n",
        "\n",
        "#train RNN. Validation data for forecasting should include future data points.\n",
        "r = model.fit(\n",
        "    X[:-N//2], Y[:-N//2],\n",
        "    epochs = 80,\n",
        "    validation_data = (X[-N//2:], Y[-N//2:]),\n",
        ")"
      ],
      "execution_count": null,
      "outputs": [
        {
          "output_type": "stream",
          "text": [
            "Epoch 1/80\n",
            "3/3 [==============================] - 0s 64ms/step - loss: 0.9791 - val_loss: 0.7222\n",
            "Epoch 2/80\n",
            "3/3 [==============================] - 0s 9ms/step - loss: 0.7050 - val_loss: 0.5888\n",
            "Epoch 3/80\n",
            "3/3 [==============================] - 0s 9ms/step - loss: 0.5768 - val_loss: 0.5112\n",
            "Epoch 4/80\n",
            "3/3 [==============================] - 0s 9ms/step - loss: 0.4804 - val_loss: 0.4814\n",
            "Epoch 5/80\n",
            "3/3 [==============================] - 0s 10ms/step - loss: 0.4017 - val_loss: 0.4006\n",
            "Epoch 6/80\n",
            "3/3 [==============================] - 0s 10ms/step - loss: 0.3253 - val_loss: 0.3508\n",
            "Epoch 7/80\n",
            "3/3 [==============================] - 0s 12ms/step - loss: 0.2264 - val_loss: 0.2790\n",
            "Epoch 8/80\n",
            "3/3 [==============================] - 0s 9ms/step - loss: 0.2091 - val_loss: 0.2210\n",
            "Epoch 9/80\n",
            "3/3 [==============================] - 0s 10ms/step - loss: 0.1414 - val_loss: 0.1453\n",
            "Epoch 10/80\n",
            "3/3 [==============================] - 0s 10ms/step - loss: 0.1168 - val_loss: 0.1212\n",
            "Epoch 11/80\n",
            "3/3 [==============================] - 0s 11ms/step - loss: 0.0901 - val_loss: 0.1225\n",
            "Epoch 12/80\n",
            "3/3 [==============================] - 0s 12ms/step - loss: 0.0926 - val_loss: 0.0983\n",
            "Epoch 13/80\n",
            "3/3 [==============================] - 0s 11ms/step - loss: 0.0687 - val_loss: 0.0869\n",
            "Epoch 14/80\n",
            "3/3 [==============================] - 0s 10ms/step - loss: 0.0688 - val_loss: 0.0735\n",
            "Epoch 15/80\n",
            "3/3 [==============================] - 0s 9ms/step - loss: 0.0523 - val_loss: 0.0665\n",
            "Epoch 16/80\n",
            "3/3 [==============================] - 0s 9ms/step - loss: 0.0460 - val_loss: 0.0531\n",
            "Epoch 17/80\n",
            "3/3 [==============================] - 0s 10ms/step - loss: 0.0390 - val_loss: 0.0458\n",
            "Epoch 18/80\n",
            "3/3 [==============================] - 0s 9ms/step - loss: 0.0350 - val_loss: 0.0417\n",
            "Epoch 19/80\n",
            "3/3 [==============================] - 0s 9ms/step - loss: 0.0335 - val_loss: 0.0380\n",
            "Epoch 20/80\n",
            "3/3 [==============================] - 0s 10ms/step - loss: 0.0332 - val_loss: 0.0340\n",
            "Epoch 21/80\n",
            "3/3 [==============================] - 0s 11ms/step - loss: 0.0315 - val_loss: 0.0316\n",
            "Epoch 22/80\n",
            "3/3 [==============================] - 0s 9ms/step - loss: 0.0278 - val_loss: 0.0289\n",
            "Epoch 23/80\n",
            "3/3 [==============================] - 0s 10ms/step - loss: 0.0273 - val_loss: 0.0286\n",
            "Epoch 24/80\n",
            "3/3 [==============================] - 0s 9ms/step - loss: 0.0260 - val_loss: 0.0294\n",
            "Epoch 25/80\n",
            "3/3 [==============================] - 0s 10ms/step - loss: 0.0263 - val_loss: 0.0291\n",
            "Epoch 26/80\n",
            "3/3 [==============================] - 0s 10ms/step - loss: 0.0267 - val_loss: 0.0287\n",
            "Epoch 27/80\n",
            "3/3 [==============================] - 0s 10ms/step - loss: 0.0248 - val_loss: 0.0270\n",
            "Epoch 28/80\n",
            "3/3 [==============================] - 0s 9ms/step - loss: 0.0256 - val_loss: 0.0270\n",
            "Epoch 29/80\n",
            "3/3 [==============================] - 0s 9ms/step - loss: 0.0267 - val_loss: 0.0259\n",
            "Epoch 30/80\n",
            "3/3 [==============================] - 0s 9ms/step - loss: 0.0291 - val_loss: 0.0246\n",
            "Epoch 31/80\n",
            "3/3 [==============================] - 0s 9ms/step - loss: 0.0235 - val_loss: 0.0303\n",
            "Epoch 32/80\n",
            "3/3 [==============================] - 0s 10ms/step - loss: 0.0271 - val_loss: 0.0259\n",
            "Epoch 33/80\n",
            "3/3 [==============================] - 0s 11ms/step - loss: 0.0260 - val_loss: 0.0323\n",
            "Epoch 34/80\n",
            "3/3 [==============================] - 0s 12ms/step - loss: 0.0315 - val_loss: 0.0251\n",
            "Epoch 35/80\n",
            "3/3 [==============================] - 0s 10ms/step - loss: 0.0267 - val_loss: 0.0253\n",
            "Epoch 36/80\n",
            "3/3 [==============================] - 0s 11ms/step - loss: 0.0231 - val_loss: 0.0286\n",
            "Epoch 37/80\n",
            "3/3 [==============================] - 0s 10ms/step - loss: 0.0270 - val_loss: 0.0248\n",
            "Epoch 38/80\n",
            "3/3 [==============================] - 0s 10ms/step - loss: 0.0247 - val_loss: 0.0275\n",
            "Epoch 39/80\n",
            "3/3 [==============================] - 0s 10ms/step - loss: 0.0246 - val_loss: 0.0245\n",
            "Epoch 40/80\n",
            "3/3 [==============================] - 0s 10ms/step - loss: 0.0239 - val_loss: 0.0278\n",
            "Epoch 41/80\n",
            "3/3 [==============================] - 0s 11ms/step - loss: 0.0238 - val_loss: 0.0252\n",
            "Epoch 42/80\n",
            "3/3 [==============================] - 0s 9ms/step - loss: 0.0239 - val_loss: 0.0254\n",
            "Epoch 43/80\n",
            "3/3 [==============================] - 0s 10ms/step - loss: 0.0246 - val_loss: 0.0264\n",
            "Epoch 44/80\n",
            "3/3 [==============================] - 0s 11ms/step - loss: 0.0246 - val_loss: 0.0255\n",
            "Epoch 45/80\n",
            "3/3 [==============================] - 0s 11ms/step - loss: 0.0244 - val_loss: 0.0243\n",
            "Epoch 46/80\n",
            "3/3 [==============================] - 0s 9ms/step - loss: 0.0243 - val_loss: 0.0276\n",
            "Epoch 47/80\n",
            "3/3 [==============================] - 0s 10ms/step - loss: 0.0238 - val_loss: 0.0240\n",
            "Epoch 48/80\n",
            "3/3 [==============================] - 0s 9ms/step - loss: 0.0242 - val_loss: 0.0273\n",
            "Epoch 49/80\n",
            "3/3 [==============================] - 0s 9ms/step - loss: 0.0237 - val_loss: 0.0243\n",
            "Epoch 50/80\n",
            "3/3 [==============================] - 0s 10ms/step - loss: 0.0234 - val_loss: 0.0265\n",
            "Epoch 51/80\n",
            "3/3 [==============================] - 0s 10ms/step - loss: 0.0244 - val_loss: 0.0242\n",
            "Epoch 52/80\n",
            "3/3 [==============================] - 0s 9ms/step - loss: 0.0285 - val_loss: 0.0283\n",
            "Epoch 53/80\n",
            "3/3 [==============================] - 0s 10ms/step - loss: 0.0280 - val_loss: 0.0241\n",
            "Epoch 54/80\n",
            "3/3 [==============================] - 0s 9ms/step - loss: 0.0288 - val_loss: 0.0267\n",
            "Epoch 55/80\n",
            "3/3 [==============================] - 0s 9ms/step - loss: 0.0362 - val_loss: 0.0240\n",
            "Epoch 56/80\n",
            "3/3 [==============================] - 0s 10ms/step - loss: 0.0305 - val_loss: 0.0243\n",
            "Epoch 57/80\n",
            "3/3 [==============================] - 0s 9ms/step - loss: 0.0250 - val_loss: 0.0311\n",
            "Epoch 58/80\n",
            "3/3 [==============================] - 0s 11ms/step - loss: 0.0279 - val_loss: 0.0265\n",
            "Epoch 59/80\n",
            "3/3 [==============================] - 0s 10ms/step - loss: 0.0250 - val_loss: 0.0342\n",
            "Epoch 60/80\n",
            "3/3 [==============================] - 0s 10ms/step - loss: 0.0287 - val_loss: 0.0246\n",
            "Epoch 61/80\n",
            "3/3 [==============================] - 0s 12ms/step - loss: 0.0320 - val_loss: 0.0282\n",
            "Epoch 62/80\n",
            "3/3 [==============================] - 0s 11ms/step - loss: 0.0349 - val_loss: 0.0290\n",
            "Epoch 63/80\n",
            "3/3 [==============================] - 0s 10ms/step - loss: 0.0256 - val_loss: 0.0297\n",
            "Epoch 64/80\n",
            "3/3 [==============================] - 0s 9ms/step - loss: 0.0244 - val_loss: 0.0341\n",
            "Epoch 65/80\n",
            "3/3 [==============================] - 0s 10ms/step - loss: 0.0322 - val_loss: 0.0245\n",
            "Epoch 66/80\n",
            "3/3 [==============================] - 0s 11ms/step - loss: 0.0278 - val_loss: 0.0245\n",
            "Epoch 67/80\n",
            "3/3 [==============================] - 0s 10ms/step - loss: 0.0230 - val_loss: 0.0305\n",
            "Epoch 68/80\n",
            "3/3 [==============================] - 0s 9ms/step - loss: 0.0253 - val_loss: 0.0242\n",
            "Epoch 69/80\n",
            "3/3 [==============================] - 0s 8ms/step - loss: 0.0245 - val_loss: 0.0255\n",
            "Epoch 70/80\n",
            "3/3 [==============================] - 0s 9ms/step - loss: 0.0268 - val_loss: 0.0250\n",
            "Epoch 71/80\n",
            "3/3 [==============================] - 0s 10ms/step - loss: 0.0226 - val_loss: 0.0246\n",
            "Epoch 72/80\n",
            "3/3 [==============================] - 0s 9ms/step - loss: 0.0243 - val_loss: 0.0276\n",
            "Epoch 73/80\n",
            "3/3 [==============================] - 0s 9ms/step - loss: 0.0234 - val_loss: 0.0235\n",
            "Epoch 74/80\n",
            "3/3 [==============================] - 0s 9ms/step - loss: 0.0235 - val_loss: 0.0238\n",
            "Epoch 75/80\n",
            "3/3 [==============================] - 0s 8ms/step - loss: 0.0228 - val_loss: 0.0260\n",
            "Epoch 76/80\n",
            "3/3 [==============================] - 0s 9ms/step - loss: 0.0237 - val_loss: 0.0230\n",
            "Epoch 77/80\n",
            "3/3 [==============================] - 0s 9ms/step - loss: 0.0222 - val_loss: 0.0242\n",
            "Epoch 78/80\n",
            "3/3 [==============================] - 0s 9ms/step - loss: 0.0225 - val_loss: 0.0224\n",
            "Epoch 79/80\n",
            "3/3 [==============================] - 0s 9ms/step - loss: 0.0219 - val_loss: 0.0233\n",
            "Epoch 80/80\n",
            "3/3 [==============================] - 0s 11ms/step - loss: 0.0218 - val_loss: 0.0223\n"
          ],
          "name": "stdout"
        }
      ]
    },
    {
      "cell_type": "code",
      "metadata": {
        "id": "L2uIjCTh3mdd",
        "colab_type": "code",
        "colab": {
          "base_uri": "https://localhost:8080/",
          "height": 282
        },
        "outputId": "058f2d9e-481f-4f36-cfaa-409e7f6bdcf6"
      },
      "source": [
        "#plot the loss\n",
        "import matplotlib.pyplot as plt\n",
        "plt.plot(r.history['loss'], label='loss')\n",
        "plt.plot(r.history['val_loss'], label = 'val_loss')\n",
        "plt.legend()"
      ],
      "execution_count": null,
      "outputs": [
        {
          "output_type": "execute_result",
          "data": {
            "text/plain": [
              "<matplotlib.legend.Legend at 0x7f0d43958d68>"
            ]
          },
          "metadata": {
            "tags": []
          },
          "execution_count": 49
        },
        {
          "output_type": "display_data",
          "data": {
            "image/png": "[encoded data removed]",
            "text/plain": [
              "<Figure size 432x288 with 1 Axes>"
            ]
          },
          "metadata": {
            "tags": [],
            "needs_background": "light"
          }
        }
      ]
    },
    {
      "cell_type": "code",
      "metadata": {
        "id": "o_zyDH6C3t0c",
        "colab_type": "code",
        "colab": {
          "base_uri": "https://localhost:8080/",
          "height": 282
        },
        "outputId": "b50aa050-df58-4df2-bf96-3883d5ad0845"
      },
      "source": [
        "#Wrong forecasting using true targets\n",
        "#Forecast future values(use only self-predicted values)\n",
        "validation_target = Y[-N//2:]\n",
        "validation_predictions = []\n",
        "\n",
        "#index of first validation input\n",
        "i = -N//2 \n",
        " \n",
        "while len(validation_predictions) < len(validation_target):\n",
        "  p = model.predict(X[i].reshape(1,-1,1))[0,0] #1 x 1 array - scalar\n",
        "  #update predictions\n",
        "  validation_predictions.append(p)\n",
        "  i += 1\n",
        "\n",
        "plt.plot(validation_target, label = \"forecast target\")\n",
        "plt.plot(validation_predictions, label = \"forecast predictions\")\n",
        "plt.legend()"
      ],
      "execution_count": null,
      "outputs": [
        {
          "output_type": "execute_result",
          "data": {
            "text/plain": [
              "<matplotlib.legend.Legend at 0x7f0d43a59550>"
            ]
          },
          "metadata": {
            "tags": []
          },
          "execution_count": 50
        },
        {
          "output_type": "display_data",
          "data": {
            "image/png": "[encoded data removed]",
            "text/plain": [
              "<Figure size 432x288 with 1 Axes>"
            ]
          },
          "metadata": {
            "tags": [],
            "needs_background": "light"
          }
        }
      ]
    },
    {
      "cell_type": "code",
      "metadata": {
        "id": "2YvPiVa430MF",
        "colab_type": "code",
        "colab": {}
      },
      "source": [
        "#Right way for forecasting: Use only self-predictions for making future predictions (not actual data)\n",
        "#Forecast future values(use only self-predicted values)\n",
        "validation_target = Y[-N//2:]\n",
        "validation_predictions = []\n",
        "\n",
        "#last train input\n",
        "last_x = X[-N//2] #1-D array of length T (10 observations)\n",
        " \n",
        "while len(validation_predictions) < len(validation_target):\n",
        "  p = model.predict(last_x.reshape(1,-1, 1))[0,0] #scalar\n",
        "  #update predictions\n",
        "  validation_predictions.append(p)\n",
        "  #make the new input\n",
        "  last_x = np.roll(last_x, -1)\n",
        "  last_x[-1] = p"
      ],
      "execution_count": null,
      "outputs": []
    },
    {
      "cell_type": "code",
      "metadata": {
        "id": "o3P6s3ez37OC",
        "colab_type": "code",
        "colab": {
          "base_uri": "https://localhost:8080/",
          "height": 282
        },
        "outputId": "220b3c53-7a9d-4e59-811b-a4c3967eeefb"
      },
      "source": [
        "plt.plot(validation_target, label = 'forecast target')\n",
        "plt.plot(validation_predictions, label = 'forecast predictions')\n",
        "plt.legend()"
      ],
      "execution_count": null,
      "outputs": [
        {
          "output_type": "execute_result",
          "data": {
            "text/plain": [
              "<matplotlib.legend.Legend at 0x7f0d464c7400>"
            ]
          },
          "metadata": {
            "tags": []
          },
          "execution_count": 52
        },
        {
          "output_type": "display_data",
          "data": {
            "image/png": "[encoded data removed]",
            "text/plain": [
              "<Figure size 432x288 with 1 Axes>"
            ]
          },
          "metadata": {
            "tags": [],
            "needs_background": "light"
          }
        }
      ]
    },
    {
      "cell_type": "markdown",
      "metadata": {
        "id": "2Y3euv9u5_KW",
        "colab_type": "text"
      },
      "source": [
        ""
      ]
    },
    {
      "cell_type": "markdown",
      "metadata": {
        "id": "OZTeP_wx5_gl",
        "colab_type": "text"
      },
      "source": [
        "# Part 8. Tracking the Shapes of RNNs\n",
        "\n"
      ]
    },
    {
      "cell_type": "code",
      "metadata": {
        "id": "q4e1GS086NN7",
        "colab_type": "code",
        "colab": {}
      },
      "source": [
        "!pip install  --upgrade tensorflow\n",
        "import tensorflow as tf\n",
        "print(tf.__version__)\n",
        "\n",
        "from tensorflow.keras.layers import Input, SimpleRNN, Dense, Flatten\n",
        "from tensorflow.keras.models import Model\n",
        "from tensorflow.keras.optimizers import SGD, Adam\n",
        "\n",
        "import numpy as np\n",
        "import pandas as pd\n",
        "import matplotlib.pyplot as plt"
      ],
      "execution_count": null,
      "outputs": []
    },
    {
      "cell_type": "markdown",
      "metadata": {
        "id": "nFrEDRAa6trH",
        "colab_type": "text"
      },
      "source": [
        "###Remember this notation for RNN\n",
        "\n",
        "*  N = number of samples\n",
        "*  T = sequence length (of time series, eg)\n",
        "*  D = number of input features\n",
        "*  M = number of hidden units\n",
        "*  K = numer of output units"
      ]
    },
    {
      "cell_type": "code",
      "metadata": {
        "id": "LIUl00HW7YBZ",
        "colab_type": "code",
        "colab": {}
      },
      "source": [
        "#Make some data\n",
        "N = 1\n",
        "T = 10\n",
        "D = 3\n",
        "K = 2\n",
        "X = np.random.randn(N, T, D) #X is a random array of N x T x D"
      ],
      "execution_count": null,
      "outputs": []
    },
    {
      "cell_type": "code",
      "metadata": {
        "id": "MUgU8ODm8COr",
        "colab_type": "code",
        "colab": {}
      },
      "source": [
        "#Make RNN\n",
        "M = 5 #number of hidden units\n",
        "i = Input(shape = (T, D))\n",
        "x = SimpleRNN(M)(i) #default activation is 'tanh'\n",
        "x = Dense(K)(x)\n",
        "model = Model(i, x)"
      ],
      "execution_count": null,
      "outputs": []
    },
    {
      "cell_type": "code",
      "metadata": {
        "id": "WjYdBmMJ8loU",
        "colab_type": "code",
        "colab": {
          "base_uri": "https://localhost:8080/",
          "height": 34
        },
        "outputId": "9e8d0f00-a03a-4f25-c40e-783c7302fb5a"
      },
      "source": [
        "# get output\n",
        "Yhat = model.predict(X)\n",
        "print(Yhat)"
      ],
      "execution_count": null,
      "outputs": [
        {
          "output_type": "stream",
          "text": [
            "[[-0.11633443  0.5646189 ]]\n"
          ],
          "name": "stdout"
        }
      ]
    },
    {
      "cell_type": "code",
      "metadata": {
        "id": "ynd_NdHw86VA",
        "colab_type": "code",
        "colab": {
          "base_uri": "https://localhost:8080/",
          "height": 255
        },
        "outputId": "50135b4e-91c6-4c77-f2a4-2b6d5a21f27a"
      },
      "source": [
        "#Do model summary to see all the layers\n",
        "model.summary()"
      ],
      "execution_count": null,
      "outputs": [
        {
          "output_type": "stream",
          "text": [
            "Model: \"functional_15\"\n",
            "_________________________________________________________________\n",
            "Layer (type)                 Output Shape              Param #   \n",
            "=================================================================\n",
            "input_9 (InputLayer)         [(None, 10, 3)]           0         \n",
            "_________________________________________________________________\n",
            "simple_rnn_6 (SimpleRNN)     (None, 5)                 45        \n",
            "_________________________________________________________________\n",
            "dense_7 (Dense)              (None, 2)                 12        \n",
            "=================================================================\n",
            "Total params: 57\n",
            "Trainable params: 57\n",
            "Non-trainable params: 0\n",
            "_________________________________________________________________\n"
          ],
          "name": "stdout"
        }
      ]
    },
    {
      "cell_type": "code",
      "metadata": {
        "id": "VcEsdxhM9Oy3",
        "colab_type": "code",
        "colab": {
          "base_uri": "https://localhost:8080/",
          "height": 204
        },
        "outputId": "fb949234-23dd-4d4c-a59c-99ec4e7c3220"
      },
      "source": [
        "# See what's returned\n",
        "model.layers[1].get_weights()"
      ],
      "execution_count": null,
      "outputs": [
        {
          "output_type": "execute_result",
          "data": {
            "text/plain": [
              "[array([[ 0.54360896, -0.62074965, -0.2701283 , -0.79017746,  0.38300878],\n",
              "        [ 0.13730377, -0.24165744, -0.00981838,  0.2804814 , -0.6883804 ],\n",
              "        [ 0.2773587 , -0.4808015 , -0.1695674 , -0.5702467 ,  0.18978661]],\n",
              "       dtype=float32),\n",
              " array([[ 0.6243812 ,  0.07631569,  0.1355058 , -0.2320979 , -0.72944695],\n",
              "        [-0.3203365 ,  0.07251319, -0.8532246 , -0.1280355 , -0.38437107],\n",
              "        [-0.6816467 ,  0.28846344,  0.490396  , -0.26024485, -0.37938246],\n",
              "        [ 0.06572596, -0.1750724 , -0.0465287 , -0.92622036,  0.32400733],\n",
              "        [ 0.1963938 ,  0.9354445 , -0.10484692, -0.06423421,  0.266935  ]],\n",
              "       dtype=float32),\n",
              " array([0., 0., 0., 0., 0.], dtype=float32)]"
            ]
          },
          "metadata": {
            "tags": []
          },
          "execution_count": 58
        }
      ]
    },
    {
      "cell_type": "code",
      "metadata": {
        "id": "JuOV4oF2HzMe",
        "colab_type": "code",
        "colab": {}
      },
      "source": [
        ""
      ],
      "execution_count": null,
      "outputs": []
    },
    {
      "cell_type": "code",
      "metadata": {
        "id": "bdrSN4eU9koJ",
        "colab_type": "code",
        "colab": {
          "base_uri": "https://localhost:8080/",
          "height": 34
        },
        "outputId": "62ad0c16-aa8d-4781-bb88-d80a172c2ab5"
      },
      "source": [
        "#More helpful to get shapes of weight arrays to see what corres. to what\n",
        "a, b, c = model.layers[1].get_weights()\n",
        "print(a.shape, b.shape, c.shape)\n",
        "# the first weight is a D x M, which means it is the input to hidden layers, the second\n",
        "# is M x M, which is the hidden to hidden weight, and the third is M which is the biased term"
      ],
      "execution_count": null,
      "outputs": [
        {
          "output_type": "stream",
          "text": [
            "(3, 5) (5, 5) (5,)\n"
          ],
          "name": "stdout"
        }
      ]
    },
    {
      "cell_type": "code",
      "metadata": {
        "id": "Dd97tREZ-icv",
        "colab_type": "code",
        "colab": {}
      },
      "source": [
        "Wx, Wh, bh = model.layers[1].get_weights()\n",
        "Wo, bo = model.layers[2].get_weights() #2nd layer is output layer"
      ],
      "execution_count": null,
      "outputs": []
    },
    {
      "cell_type": "code",
      "metadata": {
        "id": "b2PE8V41_etS",
        "colab_type": "code",
        "colab": {
          "base_uri": "https://localhost:8080/",
          "height": 34
        },
        "outputId": "ad8eb2b9-02a0-415a-d1e1-81b0fe5a053d"
      },
      "source": [
        "h_last = np.zeros(M)\n",
        "x = X[0]\n",
        "Yhats = []\n",
        "\n",
        "for t in range(T):\n",
        "  h = np.tanh(x[t].dot(Wx)+h_last.dot(Wh)+bh)\n",
        "  y = h.dot(Wo) + bo \n",
        "  Yhats.append(y)\n",
        "\n",
        "  #updae h_last\n",
        "  h_last = h \n",
        "\n",
        "print(Yhats[-1]) #final value\n"
      ],
      "execution_count": null,
      "outputs": [
        {
          "output_type": "stream",
          "text": [
            "[-0.11633451  0.56461887]\n"
          ],
          "name": "stdout"
        }
      ]
    },
    {
      "cell_type": "code",
      "metadata": {
        "id": "-3x3k2Y7HIgB",
        "colab_type": "code",
        "colab": {}
      },
      "source": [
        "# Make data with two samples\n",
        "#Make some data\n",
        "N = 2\n",
        "T = 10\n",
        "D = 3\n",
        "K = 2\n",
        "X = np.random.randn(N, T, D) #X is a random array of N x T x D"
      ],
      "execution_count": null,
      "outputs": []
    },
    {
      "cell_type": "code",
      "metadata": {
        "id": "prY29rZuHSk2",
        "colab_type": "code",
        "colab": {}
      },
      "source": [
        "#Make RNN\n",
        "M = 5 #number of hidden units\n",
        "i = Input(shape = (T, D))\n",
        "x = SimpleRNN(M)(i) #default activation is 'tanh'\n",
        "x = Dense(K)(x)\n",
        "model = Model(i, x)"
      ],
      "execution_count": null,
      "outputs": []
    },
    {
      "cell_type": "code",
      "metadata": {
        "id": "s84uIscjHaZx",
        "colab_type": "code",
        "colab": {
          "base_uri": "https://localhost:8080/",
          "height": 34
        },
        "outputId": "a9d94819-876a-432a-ae98-5b83d02d80be"
      },
      "source": [
        "# get output\n",
        "Yhat = model.predict(X)\n",
        "print(Yhat[0])"
      ],
      "execution_count": null,
      "outputs": [
        {
          "output_type": "stream",
          "text": [
            "[ 0.3912936  -0.31761998]\n"
          ],
          "name": "stdout"
        }
      ]
    },
    {
      "cell_type": "code",
      "metadata": {
        "id": "jXNAYQUTHnSI",
        "colab_type": "code",
        "colab": {
          "base_uri": "https://localhost:8080/",
          "height": 255
        },
        "outputId": "42f041c3-6cb7-44ae-e57f-188bfdc92c93"
      },
      "source": [
        "#Do model summary to see all the layers\n",
        "model.summary()"
      ],
      "execution_count": null,
      "outputs": [
        {
          "output_type": "stream",
          "text": [
            "Model: \"functional_19\"\n",
            "_________________________________________________________________\n",
            "Layer (type)                 Output Shape              Param #   \n",
            "=================================================================\n",
            "input_11 (InputLayer)        [(None, 10, 3)]           0         \n",
            "_________________________________________________________________\n",
            "simple_rnn_8 (SimpleRNN)     (None, 5)                 45        \n",
            "_________________________________________________________________\n",
            "dense_9 (Dense)              (None, 2)                 12        \n",
            "=================================================================\n",
            "Total params: 57\n",
            "Trainable params: 57\n",
            "Non-trainable params: 0\n",
            "_________________________________________________________________\n"
          ],
          "name": "stdout"
        }
      ]
    },
    {
      "cell_type": "code",
      "metadata": {
        "id": "lM6GS9YeH16v",
        "colab_type": "code",
        "colab": {
          "base_uri": "https://localhost:8080/",
          "height": 204
        },
        "outputId": "db68a3d2-4717-4ac4-c451-6b6b35329bc0"
      },
      "source": [
        "# See what's returned\n",
        "model.layers[1].get_weights()"
      ],
      "execution_count": null,
      "outputs": [
        {
          "output_type": "execute_result",
          "data": {
            "text/plain": [
              "[array([[ 0.03104621,  0.36803347,  0.49781042,  0.48316997,  0.6485899 ],\n",
              "        [ 0.54895324, -0.7942816 ,  0.6733144 ,  0.05603796, -0.80717564],\n",
              "        [-0.22904754,  0.5711085 ,  0.70165914, -0.78710985, -0.4033038 ]],\n",
              "       dtype=float32),\n",
              " array([[ 0.27536166,  0.24768166, -0.54116815,  0.7538924 ,  0.04016317],\n",
              "        [-0.02774555,  0.33583158, -0.49433848, -0.41865215, -0.6832329 ],\n",
              "        [ 0.63856304, -0.40822262, -0.40344507, -0.40544164,  0.3137526 ],\n",
              "        [-0.16858776, -0.8064296 , -0.10497173,  0.27691308, -0.48326957],\n",
              "        [-0.69801265, -0.09432138, -0.53756815, -0.12374485,  0.4467544 ]],\n",
              "       dtype=float32),\n",
              " array([0., 0., 0., 0., 0.], dtype=float32)]"
            ]
          },
          "metadata": {
            "tags": []
          },
          "execution_count": 68
        }
      ]
    },
    {
      "cell_type": "code",
      "metadata": {
        "id": "RGdxUxKYIB2Y",
        "colab_type": "code",
        "colab": {
          "base_uri": "https://localhost:8080/",
          "height": 34
        },
        "outputId": "0229419e-3b7e-422d-ab7f-9bd2e918c256"
      },
      "source": [
        "#More helpful to get shapes of weight arrays to see what corres. to what\n",
        "a, b, c = model.layers[1].get_weights()\n",
        "print(a.shape, b.shape, c.shape)\n",
        "# the first weight is a D x M, which means it is the input to hidden layers, the second\n",
        "# is M x M, which is the hidden to hidden weight, and the third is M which is the biased term"
      ],
      "execution_count": null,
      "outputs": [
        {
          "output_type": "stream",
          "text": [
            "(3, 5) (5, 5) (5,)\n"
          ],
          "name": "stdout"
        }
      ]
    },
    {
      "cell_type": "code",
      "metadata": {
        "id": "9n8oVIA8JZyH",
        "colab_type": "code",
        "colab": {}
      },
      "source": [
        "Wx, Wh, bh = model.layers[1].get_weights()\n",
        "Wo, bo = model.layers[2].get_weights() #2nd layer is output layer"
      ],
      "execution_count": null,
      "outputs": []
    },
    {
      "cell_type": "code",
      "metadata": {
        "id": "VLY1uAl3J88A",
        "colab_type": "code",
        "colab": {
          "base_uri": "https://localhost:8080/",
          "height": 51
        },
        "outputId": "f61af71c-c334-4c71-df9d-ede58ce86b65"
      },
      "source": [
        "for n in range(N):\n",
        "  h_last = np.zeros(M)\n",
        "  x = X[n]\n",
        "  Yhats = []\n",
        "\n",
        "  for t in range(T):\n",
        "    h = np.tanh(x[t].dot(Wx)+h_last.dot(Wh)+bh)\n",
        "    y = h.dot(Wo) + bo \n",
        "    Yhats.append(y)\n",
        "\n",
        "    #updae h_last\n",
        "    h_last = h \n",
        "  print(Yhats[-1]) #final value\n"
      ],
      "execution_count": null,
      "outputs": [
        {
          "output_type": "stream",
          "text": [
            "[ 0.39129357 -0.31761995]\n",
            "[-0.1475586 -0.5499325]\n"
          ],
          "name": "stdout"
        }
      ]
    }
  ]
}